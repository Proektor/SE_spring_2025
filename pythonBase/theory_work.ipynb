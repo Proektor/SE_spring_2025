{
  "cells": [
    {
      "cell_type": "markdown",
      "metadata": {
        "id": "HVx1rabj_Ehj"
      },
      "source": [
        "19.04.2025"
      ]
    },
    {
      "cell_type": "code",
      "execution_count": 2,
      "metadata": {
        "id": "hv7y1I0TFRkv"
      },
      "outputs": [],
      "source": [
        "import datetime"
      ]
    },
    {
      "cell_type": "code",
      "execution_count": 3,
      "metadata": {
        "colab": {
          "base_uri": "https://localhost:8080/"
        },
        "id": "omrElLIL-fDT",
        "outputId": "9f466bd0-ee5d-4557-9e9e-8d6ef6a8b214"
      },
      "outputs": [],
      "source": [
        "name = input(\"Введите свое имя: \")\n",
        "birthYear = int(input(\"Введите год рождения (YYYY): \"))"
      ]
    },
    {
      "cell_type": "code",
      "execution_count": 4,
      "metadata": {
        "id": "vR7J2sBPA7dC"
      },
      "outputs": [],
      "source": [
        "nowYear = datetime.date.today().year\n",
        "age = nowYear - birthYear"
      ]
    },
    {
      "cell_type": "code",
      "execution_count": 5,
      "metadata": {
        "colab": {
          "base_uri": "https://localhost:8080/"
        },
        "id": "hX-M-viBA9XJ",
        "outputId": "0b789701-d348-4e48-ed1f-1a4ca891215d"
      },
      "outputs": [
        {
          "name": "stdout",
          "output_type": "stream",
          "text": [
            "Привет, Илья!\n",
            "Тебе уже 44 года!\n"
          ]
        }
      ],
      "source": [
        "print(\"Привет,\", name + \"!\")\n",
        "print(\"Тебе уже \"+str(age)+\" года!\")"
      ]
    },
    {
      "cell_type": "code",
      "execution_count": 6,
      "metadata": {
        "colab": {
          "base_uri": "https://localhost:8080/"
        },
        "id": "DZKhRuYxHBc5",
        "outputId": "f443afaa-aabb-46aa-f5d9-1143fade52c9"
      },
      "outputs": [
        {
          "name": "stdout",
          "output_type": "stream",
          "text": [
            "Привет, Максим!\n",
            "Тебе уже 22 года!\n"
          ]
        }
      ],
      "source": [
        "print(\"Привет, {}!\\nТебе уже {} года!\".format(name, age))"
      ]
    },
    {
      "cell_type": "code",
      "execution_count": 7,
      "metadata": {
        "colab": {
          "base_uri": "https://localhost:8080/"
        },
        "id": "72YKxOKxIOvh",
        "outputId": "dd7e4402-9c43-42f1-fa2d-d9ad3ce688d4"
      },
      "outputs": [
        {
          "name": "stdout",
          "output_type": "stream",
          "text": [
            "Число нечетное\n"
          ]
        }
      ],
      "source": [
        "# Пример условия\n",
        "x = int(input(\"Введите число: \"))\n",
        "if x%2 == 0:\n",
        "    print(\"Число четное\")\n",
        "else:\n",
        "    print(\"Число нечетное\")"
      ]
    },
    {
      "cell_type": "code",
      "execution_count": 8,
      "metadata": {
        "colab": {
          "base_uri": "https://localhost:8080/"
        },
        "id": "wz8tGOJXJjV5",
        "outputId": "8b3f1b0f-285b-4f0f-8ff7-dff311fb5e1a"
      },
      "outputs": [
        {
          "name": "stdout",
          "output_type": "stream",
          "text": [
            "Средняя школа\n"
          ]
        }
      ],
      "source": [
        "try:\n",
        "    x = int(input(\"Ведите класс: \"))\n",
        "    if x < 1 or x > 11:\n",
        "        print(\"Ошибка. Класса не существует.\")\n",
        "    elif x < 5:\n",
        "        print(\"Начальная школа\")\n",
        "    elif x < 10:\n",
        "        print(\"Средняя школа\")\n",
        "    else:\n",
        "        print(\"Старшая школа\")\n",
        "except:\n",
        "    print(\"Ошибка ввода данных\")"
      ]
    },
    {
      "cell_type": "code",
      "execution_count": 9,
      "metadata": {
        "id": "2MATVVM7Qv_7"
      },
      "outputs": [],
      "source": [
        "# Пустой список\n",
        "empty_list = []\n",
        "\n",
        "# Список с элементами разных типов\n",
        "mixed_list = [1, 'hello', 3.14, True]\n",
        "\n",
        "# Список чисел\n",
        "numbers = [1, 2, 3, 4, 5]\n",
        "\n",
        "# Список строк\n",
        "fruits = ['apple', 'banana', 'orange']"
      ]
    },
    {
      "cell_type": "markdown",
      "metadata": {
        "id": "DF6ZAGIKT7uF"
      },
      "source": [
        "## Пример цикла for для списка\n",
        "```\n",
        "numbers = [1, 2, 3, 4, 5]\n",
        "\n",
        "for num in numbers:\n",
        "    print(num)\n",
        "```"
      ]
    },
    {
      "cell_type": "markdown",
      "metadata": {
        "id": "pdzsaqHXUHzw"
      },
      "source": [
        "## while цикл\n",
        "Цикл while выполняет блок кода, пока условие остается истинным. Пример:\n",
        "\n",
        "### Пример цикла while\n",
        "```\n",
        "count = 0\n",
        "\n",
        "while count < 5:\n",
        "    print(\"Текущее значение count:\", count)\n",
        "    count += 1\n",
        "```\n",
        "Этот цикл while выполняется, пока count меньше 5, и выводит текущее значение count на каждой итерации."
      ]
    },
    {
      "cell_type": "code",
      "execution_count": 13,
      "metadata": {
        "colab": {
          "base_uri": "https://localhost:8080/"
        },
        "id": "8rMXJgajQy8m",
        "outputId": "d6eab22e-01c2-4c11-c4e7-6a1ae8a67f03"
      },
      "outputs": [
        {
          "name": "stdout",
          "output_type": "stream",
          "text": [
            "л\n",
            "я\n"
          ]
        }
      ],
      "source": [
        "letters = list(name)\n",
        "for item in letters[1::2]:\n",
        "    print(item)"
      ]
    },
    {
      "cell_type": "code",
      "execution_count": 14,
      "metadata": {
        "colab": {
          "base_uri": "https://localhost:8080/"
        },
        "id": "7WqSFANmUc5C",
        "outputId": "bd8b635d-9a66-405c-85f2-919486c80bca"
      },
      "outputs": [
        {
          "name": "stdout",
          "output_type": "stream",
          "text": [
            "5050\n"
          ]
        }
      ],
      "source": [
        "res = 0\n",
        "for x in range(101): # range не учитывает последнее число!\n",
        "    res +=x\n",
        "print(res)"
      ]
    },
    {
      "cell_type": "code",
      "execution_count": 16,
      "metadata": {
        "colab": {
          "base_uri": "https://localhost:8080/"
        },
        "id": "wn0ExqJzXkRQ",
        "outputId": "353b364f-74eb-4da4-d37c-d2457b18ba3d"
      },
      "outputs": [
        {
          "name": "stdout",
          "output_type": "stream",
          "text": [
            "Май\n"
          ]
        }
      ],
      "source": [
        "# Вводим номер месяца\n",
        "# Получаем название\n",
        "strMonth = \"Январь,Февраль,Март,Апрель,Май,Июнь,Июль,Август,Сентябрь,Октябрь,Ноябрь,Декабрь\"\n",
        "month = strMonth.split(\",\")\n",
        "try:\n",
        "    num = int(input(\"Введите номер месяца: \"))\n",
        "    if num <= 1 or num > 12:\n",
        "        print(\"Неверный номер месяца!\")\n",
        "    else:\n",
        "        print(month[num-1])\n",
        "except:\n",
        "    print(\"Неверный номер месяца!\")"
      ]
    },
    {
      "cell_type": "code",
      "execution_count": 17,
      "metadata": {
        "colab": {
          "base_uri": "https://localhost:8080/"
        },
        "id": "Tcux8th0YuCT",
        "outputId": "fbad93cb-e37f-47b7-df68-d1a3cf64948e"
      },
      "outputs": [
        {
          "name": "stdout",
          "output_type": "stream",
          "text": [
            "Май\n"
          ]
        }
      ],
      "source": [
        "month = [\"Январь\",\"Февраль\",\"Март\",\"Апрель\",\"Май\",\"Июнь\",\"Июль\",\"Август\",\"Сентябрь\",\"Октябрь\",\"Ноябрь\",\"Декабрь\"]\n",
        "num = int(input(\"Введите номер месяца: \"))\n",
        "print(month[num-1])"
      ]
    },
    {
      "cell_type": "markdown",
      "metadata": {
        "id": "c_bXSAQccVGk"
      },
      "source": [
        "## Функции\n",
        "### Пример определения функции\n",
        "\n",
        "```\n",
        "def greet(name):\n",
        "    # Функция приветствия\n",
        "    print(\"Привет, \" + name + \"!\")\n",
        "```\n",
        "\n",
        "### Пример вызова функции\n",
        "\n",
        "```greet(\"Анна\")```\n"
      ]
    },
    {
      "cell_type": "code",
      "execution_count": 18,
      "metadata": {
        "colab": {
          "base_uri": "https://localhost:8080/"
        },
        "id": "ojCb1Dezc83f",
        "outputId": "6f5a6dd9-ee9f-4bc7-8224-2bb72f1f483c"
      },
      "outputs": [
        {
          "name": "stdout",
          "output_type": "stream",
          "text": [
            "1\n",
            "4\n"
          ]
        }
      ],
      "source": [
        "# Получить от пользователя числа. Возвести каждое число в квадрат\n",
        "\n",
        "def square(x):\n",
        "    print(x**2)\n",
        "\n",
        "numLoop = int(input(\"Сколько чисел будем считать? \"))\n",
        "\n",
        "for i in range(numLoop):\n",
        "    try:\n",
        "        num = int(input(\"Введите число: \"))\n",
        "        square(num)\n",
        "    except:\n",
        "        print(\"Неверный формат данных\")"
      ]
    },
    {
      "cell_type": "code",
      "execution_count": 19,
      "metadata": {
        "colab": {
          "base_uri": "https://localhost:8080/"
        },
        "id": "4HyqgbuFgbb2",
        "outputId": "0274a5b8-9899-4169-95ad-d3de7a3694a4"
      },
      "outputs": [
        {
          "name": "stdout",
          "output_type": "stream",
          "text": [
            "Пример 1. Сумма чисел: 13\n"
          ]
        }
      ],
      "source": [
        "# Пример функции с возвращаемым значением\n",
        "def add_numbers(a, b):\n",
        "    \"\"\"Функция сложения двух чисел\"\"\"\n",
        "    return a + b\n",
        "\n",
        "numLoop = int(input(\"Сколько примеров будем считать? \"))\n",
        "\n",
        "for i in range(numLoop):\n",
        "    try:\n",
        "        num1 = int(input(\"Введите число 1: \"))\n",
        "        num2 = int(input(\"Введите число 2: \"))\n",
        "\n",
        "        print(f\"Пример {i+1}. Сумма чисел: {add_numbers(num1, num2)}\")\n",
        "    except:\n",
        "        print(\"Неверный формат данных\")"
      ]
    }
  ],
  "metadata": {
    "colab": {
      "provenance": [],
      "toc_visible": true
    },
    "kernelspec": {
      "display_name": "Python 3",
      "name": "python3"
    },
    "language_info": {
      "codemirror_mode": {
        "name": "ipython",
        "version": 3
      },
      "file_extension": ".py",
      "mimetype": "text/x-python",
      "name": "python",
      "nbconvert_exporter": "python",
      "pygments_lexer": "ipython3",
      "version": "3.13.3"
    }
  },
  "nbformat": 4,
  "nbformat_minor": 0
}
