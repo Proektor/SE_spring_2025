{
 "cells": [
  {
   "cell_type": "markdown",
   "id": "f6736eea-3b5e-4c84-9866-e9833bbecc71",
   "metadata": {},
   "source": [
    "## Анализ результатов опроса с использованием Radar Chart\n",
    "\n",
    "Дано:\n",
    "1. CSV-файл с результатами опроса по различным критериям.\n",
    "2. URL для загрузки данных из CSV-файла.\n",
    "3. Константное значение 2, которое будет отображаться второй линией на графике.\n",
    "\n",
    "Необходимо:\n",
    "1. Выполнить выборку данных опроса из колонок с 6 по 16.\n",
    "2. Построить Radar Chart с использованием библиотеки Plotly.\n",
    "3. Использовать результаты опроса"
   ]
  },
  {
   "cell_type": "markdown",
   "id": "8291bc6e-42f4-4640-bd4d-a0c8a24e8f9d",
   "metadata": {},
   "source": [
    "TODO:\n",
    "1. Проверить датафреймы. Похоже перемудрил с количеством\n",
    "2. По хорошему - продумать модель данных - инфо отдельно, скилы - отдельно    "
   ]
  },
  {
   "cell_type": "markdown",
   "id": "fab1ccc8",
   "metadata": {},
   "source": [
    "### Решение"
   ]
  },
  {
   "cell_type": "markdown",
   "id": "aebd9ccb-5be7-462a-9ed7-68b05a48a73a",
   "metadata": {},
   "source": [
    "1. Импорт библиотек"
   ]
  },
  {
   "cell_type": "code",
   "execution_count": 2,
   "id": "a40d11fb",
   "metadata": {},
   "outputs": [],
   "source": [
    "from plotly.subplots import make_subplots\n",
    "import plotly.graph_objects as go\n",
    "import pandas as pd"
   ]
  },
  {
   "cell_type": "markdown",
   "id": "b00ca955-f6a7-4e09-8482-b154cc5c4a6b",
   "metadata": {},
   "source": [
    "2. Подготовка"
   ]
  },
  {
   "cell_type": "markdown",
   "id": "228e49fd",
   "metadata": {},
   "source": [
    "Заполняем настроечные данные:\n",
    "   - URL для загрузки\n",
    "   - референсное значение\n",
    "   - уровни компетенций"
   ]
  },
  {
   "cell_type": "code",
   "execution_count": 3,
   "id": "438fa67f",
   "metadata": {
    "tags": [
     "parameters"
    ]
   },
   "outputs": [],
   "source": [
    "url = 'https://docs.google.com/spreadsheets/d/1bRtJkFXv3DfOjl19jlkJee65u_BPR1e6VLdGTIM8Gcc/export?format=csv'\n",
    "\n",
    "reference = 2\n",
    "\n",
    "expertiseLvl = [\n",
    "    'Не знаю вообще как',\n",
    "    'Знаю только теорию',\n",
    "    'Знаю теорию и применяю на практике, но есть сложности',\n",
    "    'Использую на практике, теории не знаю',\n",
    "    'Владею в совершенстве и активно использую на практике'\n",
    "]"
   ]
  },
  {
   "cell_type": "markdown",
   "id": "ae54bef2-31e2-4722-89fc-b7fa5a8568c9",
   "metadata": {},
   "source": [
    "Создаем пустые датафреймы:\n",
    "   - рабочий\n",
    "   - для учета опыта"
   ]
  },
  {
   "cell_type": "code",
   "execution_count": 4,
   "id": "9c5c2c2b",
   "metadata": {},
   "outputs": [],
   "source": [
    "data = {'Category': [],\n",
    "        'Value': []}\n",
    "\n",
    "experience = {'Kind': [],\n",
    "              'Level': []}"
   ]
  },
  {
   "cell_type": "markdown",
   "id": "e3a8345f-9b29-4350-b40f-fb84a21cb408",
   "metadata": {},
   "source": [
    "Читаем csv в датафрем для обработки"
   ]
  },
  {
   "cell_type": "code",
   "execution_count": 5,
   "id": "70a690f9",
   "metadata": {},
   "outputs": [],
   "source": [
    "df = pd.read_csv(url,header=[0,1])\n",
    "\n",
    "df = df.dropna() # исключаем из обработки незавершенные строки"
   ]
  },
  {
   "cell_type": "markdown",
   "id": "1220530e-b770-456d-8a93-76aad98b913f",
   "metadata": {},
   "source": [
    "Определяем количество столбцов - пригодится в дальнейшем для итерации в циклах"
   ]
  },
  {
   "cell_type": "code",
   "execution_count": 6,
   "id": "b4d482f1",
   "metadata": {},
   "outputs": [],
   "source": [
    "numOfCol = len(df.columns)"
   ]
  },
  {
   "cell_type": "markdown",
   "id": "9feebfdc",
   "metadata": {},
   "source": [
    "3. Обработка"
   ]
  },
  {
   "cell_type": "markdown",
   "id": "372f0ce0-03b4-4774-b2bf-83a1cd8e4af3",
   "metadata": {},
   "source": [
    "Готовим справочную информацию для легенды:"
   ]
  },
  {
   "cell_type": "markdown",
   "id": "3915be27",
   "metadata": {},
   "source": [
    "- Заголовок (находится в строке 1 столбца 7)"
   ]
  },
  {
   "cell_type": "code",
   "execution_count": 7,
   "id": "b6b37440",
   "metadata": {},
   "outputs": [],
   "source": [
    "expertise = str(df.columns[6][0]).rstrip(\". \")"
   ]
  },
  {
   "cell_type": "markdown",
   "id": "08209840",
   "metadata": {},
   "source": [
    "- Список компетенций (в строке 2 столбцов 7 - 16)"
   ]
  },
  {
   "cell_type": "code",
   "execution_count": 8,
   "id": "efb8c91a",
   "metadata": {},
   "outputs": [],
   "source": [
    "expertiseKinds = []\n",
    "\n",
    "for i in range(10):\n",
    "    spacePos = df.columns[6+i][1].find(' ')             # находим пробел после номера компетенции\n",
    "    exprtKind = str(df.columns[6+i][1])[spacePos+1:-1]  # обрезаем номер у компетенции\n",
    "    expertiseKinds.append(exprtKind)                    # добавляем полученное значение в список"
   ]
  },
  {
   "cell_type": "markdown",
   "id": "821e01b6-6480-45ad-973f-078bd09e01c1",
   "metadata": {},
   "source": [
    "Добавляем категории в рабочий датафрейм:\n",
    "- проходим в цикле по столбцам 1 - 6\n",
    "- дополнительно добавляем категорию для опыта"
   ]
  },
  {
   "cell_type": "code",
   "execution_count": 9,
   "id": "ca8638c7",
   "metadata": {},
   "outputs": [],
   "source": [
    "for i in range(7):\n",
    "    if i==3:\n",
    "        addItem = 'level'       # представленное в файле не устраивает - вводим свое имя категории\n",
    "    elif i==4:\n",
    "        addItem = 'available'   # представленное в файле не устраивает - вводим свое имя категории\n",
    "    elif i==5:\n",
    "        addItem = 'work type'   # представленное в файле не устраивает - вводим свое имя категории\n",
    "    elif i==6:\n",
    "        addItem = 'ExpLvl'      # дополнительная категория для опыта\n",
    "    else:                       # остальные имена устраивают - берем как есть из загруженного файла\n",
    "        addItem = df.columns[i][1]    \n",
    "    data['Category'].append(addItem)"
   ]
  },
  {
   "cell_type": "markdown",
   "id": "5b7851bc-943a-4f79-aeb2-c8876470383c",
   "metadata": {},
   "source": [
    "В цикле по оставшимся столбцам (7-16) добавляем категории в датафрейм опыта\n",
    "\n",
    "<details>\n",
    "\t<summary>Информация для добавления</summary>\n",
    "\t\tНомер компетенции (в пределах группы)\n",
    "</details>"
   ]
  },
  {
   "cell_type": "code",
   "execution_count": 10,
   "id": "de91e7ac",
   "metadata": {},
   "outputs": [],
   "source": [
    "for i in range(6,numOfCol):    \n",
    "    spacePos = df.columns[i][1].find(' ')   # находим пробел после номера компетенции\n",
    "    dotPos = df.columns[i][1].find('.')     # находим '.' в номере компетенции\n",
    "    addItem = df.columns[i][1][2:spacePos]  # берем все, что между '.' и пробелом\n",
    "    experience['Kind'].append(addItem)"
   ]
  },
  {
   "cell_type": "markdown",
   "id": "110f1128-b957-4c09-8e66-121a67889432",
   "metadata": {},
   "source": [
    "Задаем образец для сравнения - добавляем в датафрейм опыта референсные значения"
   ]
  },
  {
   "cell_type": "code",
   "execution_count": 11,
   "id": "83037290",
   "metadata": {},
   "outputs": [],
   "source": [
    "for i in range(6,numOfCol):\n",
    "    experience['Level'].append(reference)"
   ]
  },
  {
   "cell_type": "markdown",
   "id": "5e3323af",
   "metadata": {},
   "source": [
    "Добавляем референсные значения в рабочий датафрейм\n",
    "\n",
    "<details>\n",
    "\t<summary>Информация для добавления</summary>\n",
    "    \n",
    "    name:       Reference\n",
    "    phone:      -\n",
    "    email:      -\n",
    "    level:      -\n",
    "    available:  -\n",
    "    work type:  -\n",
    "    ExpLvl:     2\n",
    "</details>"
   ]
  },
  {
   "cell_type": "code",
   "execution_count": 12,
   "id": "9028817e",
   "metadata": {},
   "outputs": [],
   "source": [
    "row = []\n",
    "for i in range(5):\n",
    "    if i==0:\n",
    "        row.append('Reference')\n",
    "    row.append('-')\n",
    "row.append(experience['Level'])\n",
    "data['Value'].append(row)"
   ]
  },
  {
   "cell_type": "markdown",
   "id": "daa37f73-fc7f-4b3a-9c89-8ea66ed3d48a",
   "metadata": {},
   "source": [
    "Добавляем в рабочий датафрейм значения из каждой строки файла данных, параллельно выполняем форматирование и обработку"
   ]
  },
  {
   "cell_type": "code",
   "execution_count": 13,
   "id": "dcecf32d",
   "metadata": {},
   "outputs": [],
   "source": [
    "for i in df.index:\n",
    "    row = []\n",
    "    expRow = []\n",
    "    # Заполняем информационные поля\n",
    "    for j in range(6):\n",
    "        if j==1:\n",
    "            # фоматируем номер телефона к удобочитаемому формату\n",
    "            try:\n",
    "                s = str(int(df.values[i][j]))\n",
    "                addItem = '+{} ({}) {}-{}-{}'.format(s[0], s[1:4], s[4:7], s[7:9], s[9:11])\n",
    "            except:\n",
    "                addItem = '-' # если не получается - добавляем '-'\n",
    "                continue\n",
    "        else:\n",
    "            # значения информационных полей\n",
    "            try:\n",
    "                addItem = df.values[i][j]\n",
    "            except:\n",
    "                addItem = '-' # если не получается - добавляем '-'\n",
    "                continue\n",
    "        row.append(addItem)\n",
    "    # Заполняем поля с уровнями знаний\n",
    "    for k in range(6,numOfCol):\n",
    "        try:\n",
    "            addItem = int(df.values[i][k][:1])\n",
    "        except:\n",
    "            addItem = '-' # если не получается - добавляем '-'\n",
    "            continue\n",
    "        expRow.append(addItem)\n",
    "    row.append(expRow)\n",
    "    data['Value'].append(row)"
   ]
  },
  {
   "cell_type": "markdown",
   "id": "93590d72-e5fb-4ec7-8a98-77c8c010f9d4",
   "metadata": {},
   "source": [
    "4. Подготовка отчета для отображения информации"
   ]
  },
  {
   "cell_type": "markdown",
   "id": "ae26f9b9",
   "metadata": {},
   "source": [
    "Готовим холст:\n",
    "- Нарезаем раскладку блоков информации (3 строки 1 столбец)\n",
    "- Добавляем названия блоков\n",
    "- Настраиваем высоту блоков (соотношение) и расстояние между ними"
   ]
  },
  {
   "cell_type": "code",
   "execution_count": 14,
   "id": "65393b68",
   "metadata": {},
   "outputs": [],
   "source": [
    "fig = make_subplots(rows=3, cols=1,\n",
    "                    specs=[[{'type':'table'}],\n",
    "                           [{'type':'polar'}],\n",
    "                           [{'type':'table'}]],\n",
    "                    row_heights=[3,6,7],\n",
    "                    subplot_titles=('Инфо','','Список компетенций'),\n",
    "                    vertical_spacing = 0.05\n",
    ")"
   ]
  },
  {
   "cell_type": "markdown",
   "id": "4b97c062",
   "metadata": {},
   "source": [
    "Добавляем данные в первый блок - таблица информации\n",
    "\n",
    "Данные берем из рабочего датафрейма "
   ]
  },
  {
   "cell_type": "code",
   "execution_count": 15,
   "id": "f56962da",
   "metadata": {},
   "outputs": [
    {
     "data": {
      "application/vnd.plotly.v1+json": {
       "config": {
        "plotlyServerURL": "https://plot.ly"
       },
       "data": [
        {
         "cells": {
          "align": "left",
          "height": 25,
          "values": [
           [
            "name",
            "phone",
            "email",
            "level",
            "available",
            "work type"
           ],
           [
            "Дмитрий Тест",
            "+7 (911) 111-11-11",
            "-",
            "Junior — стажер “интерн“ после обучения",
            "-",
            "В офисе"
           ]
          ]
         },
         "columnwidth": [
          0.1,
          0.9,
          0
         ],
         "domain": {
          "x": [
           0,
           1
          ],
          "y": [
           0.8312499999999999,
           1
          ]
         },
         "header": {
          "align": "left",
          "height": 0,
          "values": [
           "",
           ""
          ]
         },
         "type": "table"
        }
       ],
       "layout": {
        "annotations": [
         {
          "font": {
           "size": 16
          },
          "showarrow": false,
          "text": "Инфо",
          "x": 0.5,
          "xanchor": "center",
          "xref": "paper",
          "y": 1,
          "yanchor": "bottom",
          "yref": "paper"
         },
         {
          "font": {
           "size": 16
          },
          "showarrow": false,
          "text": "Список компетенций",
          "x": 0.5,
          "xanchor": "center",
          "xref": "paper",
          "y": 0.39375,
          "yanchor": "bottom",
          "yref": "paper"
         }
        ],
        "polar": {
         "domain": {
          "x": [
           0,
           1
          ],
          "y": [
           0.44375,
           0.78125
          ]
         }
        },
        "template": {
         "data": {
          "bar": [
           {
            "error_x": {
             "color": "#2a3f5f"
            },
            "error_y": {
             "color": "#2a3f5f"
            },
            "marker": {
             "line": {
              "color": "#E5ECF6",
              "width": 0.5
             },
             "pattern": {
              "fillmode": "overlay",
              "size": 10,
              "solidity": 0.2
             }
            },
            "type": "bar"
           }
          ],
          "barpolar": [
           {
            "marker": {
             "line": {
              "color": "#E5ECF6",
              "width": 0.5
             },
             "pattern": {
              "fillmode": "overlay",
              "size": 10,
              "solidity": 0.2
             }
            },
            "type": "barpolar"
           }
          ],
          "carpet": [
           {
            "aaxis": {
             "endlinecolor": "#2a3f5f",
             "gridcolor": "white",
             "linecolor": "white",
             "minorgridcolor": "white",
             "startlinecolor": "#2a3f5f"
            },
            "baxis": {
             "endlinecolor": "#2a3f5f",
             "gridcolor": "white",
             "linecolor": "white",
             "minorgridcolor": "white",
             "startlinecolor": "#2a3f5f"
            },
            "type": "carpet"
           }
          ],
          "choropleth": [
           {
            "colorbar": {
             "outlinewidth": 0,
             "ticks": ""
            },
            "type": "choropleth"
           }
          ],
          "contour": [
           {
            "colorbar": {
             "outlinewidth": 0,
             "ticks": ""
            },
            "colorscale": [
             [
              0,
              "#0d0887"
             ],
             [
              0.1111111111111111,
              "#46039f"
             ],
             [
              0.2222222222222222,
              "#7201a8"
             ],
             [
              0.3333333333333333,
              "#9c179e"
             ],
             [
              0.4444444444444444,
              "#bd3786"
             ],
             [
              0.5555555555555556,
              "#d8576b"
             ],
             [
              0.6666666666666666,
              "#ed7953"
             ],
             [
              0.7777777777777778,
              "#fb9f3a"
             ],
             [
              0.8888888888888888,
              "#fdca26"
             ],
             [
              1,
              "#f0f921"
             ]
            ],
            "type": "contour"
           }
          ],
          "contourcarpet": [
           {
            "colorbar": {
             "outlinewidth": 0,
             "ticks": ""
            },
            "type": "contourcarpet"
           }
          ],
          "heatmap": [
           {
            "colorbar": {
             "outlinewidth": 0,
             "ticks": ""
            },
            "colorscale": [
             [
              0,
              "#0d0887"
             ],
             [
              0.1111111111111111,
              "#46039f"
             ],
             [
              0.2222222222222222,
              "#7201a8"
             ],
             [
              0.3333333333333333,
              "#9c179e"
             ],
             [
              0.4444444444444444,
              "#bd3786"
             ],
             [
              0.5555555555555556,
              "#d8576b"
             ],
             [
              0.6666666666666666,
              "#ed7953"
             ],
             [
              0.7777777777777778,
              "#fb9f3a"
             ],
             [
              0.8888888888888888,
              "#fdca26"
             ],
             [
              1,
              "#f0f921"
             ]
            ],
            "type": "heatmap"
           }
          ],
          "histogram": [
           {
            "marker": {
             "pattern": {
              "fillmode": "overlay",
              "size": 10,
              "solidity": 0.2
             }
            },
            "type": "histogram"
           }
          ],
          "histogram2d": [
           {
            "colorbar": {
             "outlinewidth": 0,
             "ticks": ""
            },
            "colorscale": [
             [
              0,
              "#0d0887"
             ],
             [
              0.1111111111111111,
              "#46039f"
             ],
             [
              0.2222222222222222,
              "#7201a8"
             ],
             [
              0.3333333333333333,
              "#9c179e"
             ],
             [
              0.4444444444444444,
              "#bd3786"
             ],
             [
              0.5555555555555556,
              "#d8576b"
             ],
             [
              0.6666666666666666,
              "#ed7953"
             ],
             [
              0.7777777777777778,
              "#fb9f3a"
             ],
             [
              0.8888888888888888,
              "#fdca26"
             ],
             [
              1,
              "#f0f921"
             ]
            ],
            "type": "histogram2d"
           }
          ],
          "histogram2dcontour": [
           {
            "colorbar": {
             "outlinewidth": 0,
             "ticks": ""
            },
            "colorscale": [
             [
              0,
              "#0d0887"
             ],
             [
              0.1111111111111111,
              "#46039f"
             ],
             [
              0.2222222222222222,
              "#7201a8"
             ],
             [
              0.3333333333333333,
              "#9c179e"
             ],
             [
              0.4444444444444444,
              "#bd3786"
             ],
             [
              0.5555555555555556,
              "#d8576b"
             ],
             [
              0.6666666666666666,
              "#ed7953"
             ],
             [
              0.7777777777777778,
              "#fb9f3a"
             ],
             [
              0.8888888888888888,
              "#fdca26"
             ],
             [
              1,
              "#f0f921"
             ]
            ],
            "type": "histogram2dcontour"
           }
          ],
          "mesh3d": [
           {
            "colorbar": {
             "outlinewidth": 0,
             "ticks": ""
            },
            "type": "mesh3d"
           }
          ],
          "parcoords": [
           {
            "line": {
             "colorbar": {
              "outlinewidth": 0,
              "ticks": ""
             }
            },
            "type": "parcoords"
           }
          ],
          "pie": [
           {
            "automargin": true,
            "type": "pie"
           }
          ],
          "scatter": [
           {
            "fillpattern": {
             "fillmode": "overlay",
             "size": 10,
             "solidity": 0.2
            },
            "type": "scatter"
           }
          ],
          "scatter3d": [
           {
            "line": {
             "colorbar": {
              "outlinewidth": 0,
              "ticks": ""
             }
            },
            "marker": {
             "colorbar": {
              "outlinewidth": 0,
              "ticks": ""
             }
            },
            "type": "scatter3d"
           }
          ],
          "scattercarpet": [
           {
            "marker": {
             "colorbar": {
              "outlinewidth": 0,
              "ticks": ""
             }
            },
            "type": "scattercarpet"
           }
          ],
          "scattergeo": [
           {
            "marker": {
             "colorbar": {
              "outlinewidth": 0,
              "ticks": ""
             }
            },
            "type": "scattergeo"
           }
          ],
          "scattergl": [
           {
            "marker": {
             "colorbar": {
              "outlinewidth": 0,
              "ticks": ""
             }
            },
            "type": "scattergl"
           }
          ],
          "scattermap": [
           {
            "marker": {
             "colorbar": {
              "outlinewidth": 0,
              "ticks": ""
             }
            },
            "type": "scattermap"
           }
          ],
          "scattermapbox": [
           {
            "marker": {
             "colorbar": {
              "outlinewidth": 0,
              "ticks": ""
             }
            },
            "type": "scattermapbox"
           }
          ],
          "scatterpolar": [
           {
            "marker": {
             "colorbar": {
              "outlinewidth": 0,
              "ticks": ""
             }
            },
            "type": "scatterpolar"
           }
          ],
          "scatterpolargl": [
           {
            "marker": {
             "colorbar": {
              "outlinewidth": 0,
              "ticks": ""
             }
            },
            "type": "scatterpolargl"
           }
          ],
          "scatterternary": [
           {
            "marker": {
             "colorbar": {
              "outlinewidth": 0,
              "ticks": ""
             }
            },
            "type": "scatterternary"
           }
          ],
          "surface": [
           {
            "colorbar": {
             "outlinewidth": 0,
             "ticks": ""
            },
            "colorscale": [
             [
              0,
              "#0d0887"
             ],
             [
              0.1111111111111111,
              "#46039f"
             ],
             [
              0.2222222222222222,
              "#7201a8"
             ],
             [
              0.3333333333333333,
              "#9c179e"
             ],
             [
              0.4444444444444444,
              "#bd3786"
             ],
             [
              0.5555555555555556,
              "#d8576b"
             ],
             [
              0.6666666666666666,
              "#ed7953"
             ],
             [
              0.7777777777777778,
              "#fb9f3a"
             ],
             [
              0.8888888888888888,
              "#fdca26"
             ],
             [
              1,
              "#f0f921"
             ]
            ],
            "type": "surface"
           }
          ],
          "table": [
           {
            "cells": {
             "fill": {
              "color": "#EBF0F8"
             },
             "line": {
              "color": "white"
             }
            },
            "header": {
             "fill": {
              "color": "#C8D4E3"
             },
             "line": {
              "color": "white"
             }
            },
            "type": "table"
           }
          ]
         },
         "layout": {
          "annotationdefaults": {
           "arrowcolor": "#2a3f5f",
           "arrowhead": 0,
           "arrowwidth": 1
          },
          "autotypenumbers": "strict",
          "coloraxis": {
           "colorbar": {
            "outlinewidth": 0,
            "ticks": ""
           }
          },
          "colorscale": {
           "diverging": [
            [
             0,
             "#8e0152"
            ],
            [
             0.1,
             "#c51b7d"
            ],
            [
             0.2,
             "#de77ae"
            ],
            [
             0.3,
             "#f1b6da"
            ],
            [
             0.4,
             "#fde0ef"
            ],
            [
             0.5,
             "#f7f7f7"
            ],
            [
             0.6,
             "#e6f5d0"
            ],
            [
             0.7,
             "#b8e186"
            ],
            [
             0.8,
             "#7fbc41"
            ],
            [
             0.9,
             "#4d9221"
            ],
            [
             1,
             "#276419"
            ]
           ],
           "sequential": [
            [
             0,
             "#0d0887"
            ],
            [
             0.1111111111111111,
             "#46039f"
            ],
            [
             0.2222222222222222,
             "#7201a8"
            ],
            [
             0.3333333333333333,
             "#9c179e"
            ],
            [
             0.4444444444444444,
             "#bd3786"
            ],
            [
             0.5555555555555556,
             "#d8576b"
            ],
            [
             0.6666666666666666,
             "#ed7953"
            ],
            [
             0.7777777777777778,
             "#fb9f3a"
            ],
            [
             0.8888888888888888,
             "#fdca26"
            ],
            [
             1,
             "#f0f921"
            ]
           ],
           "sequentialminus": [
            [
             0,
             "#0d0887"
            ],
            [
             0.1111111111111111,
             "#46039f"
            ],
            [
             0.2222222222222222,
             "#7201a8"
            ],
            [
             0.3333333333333333,
             "#9c179e"
            ],
            [
             0.4444444444444444,
             "#bd3786"
            ],
            [
             0.5555555555555556,
             "#d8576b"
            ],
            [
             0.6666666666666666,
             "#ed7953"
            ],
            [
             0.7777777777777778,
             "#fb9f3a"
            ],
            [
             0.8888888888888888,
             "#fdca26"
            ],
            [
             1,
             "#f0f921"
            ]
           ]
          },
          "colorway": [
           "#636efa",
           "#EF553B",
           "#00cc96",
           "#ab63fa",
           "#FFA15A",
           "#19d3f3",
           "#FF6692",
           "#B6E880",
           "#FF97FF",
           "#FECB52"
          ],
          "font": {
           "color": "#2a3f5f"
          },
          "geo": {
           "bgcolor": "white",
           "lakecolor": "white",
           "landcolor": "#E5ECF6",
           "showlakes": true,
           "showland": true,
           "subunitcolor": "white"
          },
          "hoverlabel": {
           "align": "left"
          },
          "hovermode": "closest",
          "mapbox": {
           "style": "light"
          },
          "paper_bgcolor": "white",
          "plot_bgcolor": "#E5ECF6",
          "polar": {
           "angularaxis": {
            "gridcolor": "white",
            "linecolor": "white",
            "ticks": ""
           },
           "bgcolor": "#E5ECF6",
           "radialaxis": {
            "gridcolor": "white",
            "linecolor": "white",
            "ticks": ""
           }
          },
          "scene": {
           "xaxis": {
            "backgroundcolor": "#E5ECF6",
            "gridcolor": "white",
            "gridwidth": 2,
            "linecolor": "white",
            "showbackground": true,
            "ticks": "",
            "zerolinecolor": "white"
           },
           "yaxis": {
            "backgroundcolor": "#E5ECF6",
            "gridcolor": "white",
            "gridwidth": 2,
            "linecolor": "white",
            "showbackground": true,
            "ticks": "",
            "zerolinecolor": "white"
           },
           "zaxis": {
            "backgroundcolor": "#E5ECF6",
            "gridcolor": "white",
            "gridwidth": 2,
            "linecolor": "white",
            "showbackground": true,
            "ticks": "",
            "zerolinecolor": "white"
           }
          },
          "shapedefaults": {
           "line": {
            "color": "#2a3f5f"
           }
          },
          "ternary": {
           "aaxis": {
            "gridcolor": "white",
            "linecolor": "white",
            "ticks": ""
           },
           "baxis": {
            "gridcolor": "white",
            "linecolor": "white",
            "ticks": ""
           },
           "bgcolor": "#E5ECF6",
           "caxis": {
            "gridcolor": "white",
            "linecolor": "white",
            "ticks": ""
           }
          },
          "title": {
           "x": 0.05
          },
          "xaxis": {
           "automargin": true,
           "gridcolor": "white",
           "linecolor": "white",
           "ticks": "",
           "title": {
            "standoff": 15
           },
           "zerolinecolor": "white",
           "zerolinewidth": 2
          },
          "yaxis": {
           "automargin": true,
           "gridcolor": "white",
           "linecolor": "white",
           "ticks": "",
           "title": {
            "standoff": 15
           },
           "zerolinecolor": "white",
           "zerolinewidth": 2
          }
         }
        }
       }
      }
     },
     "metadata": {},
     "output_type": "display_data"
    }
   ],
   "source": [
    "fig.add_trace(go.Table(\n",
    "    hoverinfo=None,\n",
    "    columnwidth=[0.1,0.9,0],\n",
    "    header=dict(align='left',\n",
    "               height=0,\n",
    "               values=['','']),\n",
    "    cells=dict(align='left',\n",
    "               height=25,\n",
    "               values=[data['Category'][:6],data['Value'][1][:6]])\n",
    "),\n",
    "row=1, col=1\n",
    ")"
   ]
  },
  {
   "cell_type": "markdown",
   "id": "7670f64e",
   "metadata": {},
   "source": [
    "Добавляем данные во второй блок - RadarChart"
   ]
  },
  {
   "cell_type": "markdown",
   "id": "15a980e3",
   "metadata": {},
   "source": [
    "Подготавливаем угловые координаты"
   ]
  },
  {
   "cell_type": "code",
   "execution_count": 16,
   "id": "d11c067f",
   "metadata": {},
   "outputs": [],
   "source": [
    "theta = experience['Kind'].copy()\n",
    "theta.append(experience['Kind'][0])"
   ]
  },
  {
   "cell_type": "markdown",
   "id": "da67cb19",
   "metadata": {},
   "source": [
    "Для каждой строки из рабочего датафрейма готовим трейс"
   ]
  },
  {
   "cell_type": "code",
   "execution_count": 17,
   "id": "68ea4581",
   "metadata": {},
   "outputs": [],
   "source": [
    "for i in range(len(data)):\n",
    "    \n",
    "    # Подготавливаем радиальные координаты\n",
    "    values = data['Value'][i][6].copy()\n",
    "    values.append(data['Value'][i][6][0])\n",
    "    \n",
    "    # Готовим customdata для hover\n",
    "    custData=[]\n",
    "    for v in values:\n",
    "        custData.append(expertiseLvl[v-1])\n",
    "    \n",
    "    # Задаем цвета для маркеров:\n",
    "    # все, что выше или равно референсному значению - зеленое\n",
    "    # все, что ниже референсного значения - красное\n",
    "    colors = ['rgba(72,161,56,1)' if int(v)>=reference else 'rgba(226,120,123,1)' for v in values]\n",
    "    \n",
    "    # Рисуем график, даем ему имя, настраиваем размер точек, цвет линий, заливку, добавляем hover\n",
    "    fig.add_trace(go.Scatterpolar(\n",
    "        r=values,\n",
    "        theta=theta,\n",
    "        name=data['Value'][i][0],\n",
    "        marker=dict(\n",
    "            color=colors,\n",
    "        size=8),\n",
    "        line=dict(\n",
    "            color='grey'\n",
    "        ),\n",
    "        fillcolor='rgba(226,120,123,0.2)' if i==0 else 'rgba(72,161,56,0.4)',\n",
    "        mode='lines+markers',\n",
    "        fill='tonext',\n",
    "        customdata=custData,\n",
    "        hovertemplate='%{customdata}'\n",
    "    ),\n",
    "    row=2, col=1)"
   ]
  },
  {
   "cell_type": "markdown",
   "id": "2b876e03",
   "metadata": {},
   "source": [
    "Добавляем данные в третий блок - таблица компетенций\n",
    "\n",
    "Данные берем из датафрейма опыта и датафрейма компетенций"
   ]
  },
  {
   "cell_type": "code",
   "execution_count": 18,
   "id": "8e328ef6",
   "metadata": {},
   "outputs": [
    {
     "data": {
      "application/vnd.plotly.v1+json": {
       "config": {
        "plotlyServerURL": "https://plot.ly"
       },
       "data": [
        {
         "cells": {
          "align": "left",
          "height": 25,
          "values": [
           [
            "name",
            "phone",
            "email",
            "level",
            "available",
            "work type"
           ],
           [
            "Дмитрий Тест",
            "+7 (911) 111-11-11",
            "-",
            "Junior — стажер “интерн“ после обучения",
            "-",
            "В офисе"
           ]
          ]
         },
         "columnwidth": [
          0.1,
          0.9,
          0
         ],
         "domain": {
          "x": [
           0,
           1
          ],
          "y": [
           0.8312499999999999,
           1
          ]
         },
         "header": {
          "align": "left",
          "height": 0,
          "values": [
           "",
           ""
          ]
         },
         "type": "table"
        },
        {
         "customdata": [
          "Знаю только теорию",
          "Знаю только теорию",
          "Знаю только теорию",
          "Знаю только теорию",
          "Знаю только теорию",
          "Знаю только теорию",
          "Знаю только теорию",
          "Знаю только теорию",
          "Знаю только теорию",
          "Знаю только теорию",
          "Знаю только теорию"
         ],
         "fill": "tonext",
         "fillcolor": "rgba(226,120,123,0.2)",
         "hovertemplate": "%{customdata}",
         "line": {
          "color": "grey"
         },
         "marker": {
          "color": [
           "rgba(72,161,56,1)",
           "rgba(72,161,56,1)",
           "rgba(72,161,56,1)",
           "rgba(72,161,56,1)",
           "rgba(72,161,56,1)",
           "rgba(72,161,56,1)",
           "rgba(72,161,56,1)",
           "rgba(72,161,56,1)",
           "rgba(72,161,56,1)",
           "rgba(72,161,56,1)",
           "rgba(72,161,56,1)"
          ],
          "size": 8
         },
         "mode": "lines+markers",
         "name": "Reference",
         "r": [
          2,
          2,
          2,
          2,
          2,
          2,
          2,
          2,
          2,
          2,
          2
         ],
         "subplot": "polar",
         "theta": [
          "1",
          "2",
          "3",
          "4",
          "5",
          "6",
          "7",
          "8",
          "9",
          "10",
          "1"
         ],
         "type": "scatterpolar"
        },
        {
         "customdata": [
          "Владею в совершенстве и активно использую на практике",
          "Знаю теорию и применяю на практике, но есть сложности",
          "Использую на практике, теории не знаю",
          "Знаю только теорию",
          "Знаю теорию и применяю на практике, но есть сложности",
          "Владею в совершенстве и активно использую на практике",
          "Знаю теорию и применяю на практике, но есть сложности",
          "Не знаю вообще как",
          "Использую на практике, теории не знаю",
          "Знаю теорию и применяю на практике, но есть сложности",
          "Владею в совершенстве и активно использую на практике"
         ],
         "fill": "tonext",
         "fillcolor": "rgba(72,161,56,0.4)",
         "hovertemplate": "%{customdata}",
         "line": {
          "color": "grey"
         },
         "marker": {
          "color": [
           "rgba(72,161,56,1)",
           "rgba(72,161,56,1)",
           "rgba(72,161,56,1)",
           "rgba(72,161,56,1)",
           "rgba(72,161,56,1)",
           "rgba(72,161,56,1)",
           "rgba(72,161,56,1)",
           "rgba(226,120,123,1)",
           "rgba(72,161,56,1)",
           "rgba(72,161,56,1)",
           "rgba(72,161,56,1)"
          ],
          "size": 8
         },
         "mode": "lines+markers",
         "name": "Дмитрий Тест",
         "r": [
          5,
          3,
          4,
          2,
          3,
          5,
          3,
          1,
          4,
          3,
          5
         ],
         "subplot": "polar",
         "theta": [
          "1",
          "2",
          "3",
          "4",
          "5",
          "6",
          "7",
          "8",
          "9",
          "10",
          "1"
         ],
         "type": "scatterpolar"
        },
        {
         "cells": {
          "align": "left",
          "height": 25,
          "values": [
           [
            "1",
            "2",
            "3",
            "4",
            "5",
            "6",
            "7",
            "8",
            "9",
            "10"
           ],
           [
            "Применение BPMN-нотации для моделирования бизнес-процессов в ИТ-проекте",
            "Выделение ролей, определение взаимосвязей и шагов процесса с учетом стандартов BPMN",
            "Создание контекстной диаграммы для иллюстрации взаимосвязей между системой проекта и внешними стейкхолдерами",
            "Использование нотации C4 для описания контекста проекта, структуры системы, ее компонентов и программного кода",
            "Визуализация архитектуры проекта с учетом различных уровней абстракции",
            "Организация интервью с участниками проекта для выявления требований и понимания потребностей стейкхолдеров",
            "Анализ полученной информации для интеграции в бизнес-процессы и архитектуру проекта",
            "Разработка карт пользовательских историй для визуализации последовательности пользовательских взаимодействий с системой",
            "Использование Opportunity Canvas для выявления и оценки возможностей улучшения проекта",
            "Анализ потенциальных выгод и рисков для принятия информированных решений"
           ],
           [
            5,
            3,
            4,
            2,
            3,
            5,
            3,
            1,
            4,
            3
           ]
          ]
         },
         "columnwidth": [
          0.06,
          0.86,
          0.08
         ],
         "domain": {
          "x": [
           0,
           1
          ],
          "y": [
           0,
           0.39375
          ]
         },
         "header": {
          "align": "center",
          "values": [
           "Номер",
           "Описание",
           "Уровень владения"
          ]
         },
         "type": "table"
        }
       ],
       "layout": {
        "annotations": [
         {
          "font": {
           "size": 16
          },
          "showarrow": false,
          "text": "Инфо",
          "x": 0.5,
          "xanchor": "center",
          "xref": "paper",
          "y": 1,
          "yanchor": "bottom",
          "yref": "paper"
         },
         {
          "font": {
           "size": 16
          },
          "showarrow": false,
          "text": "Список компетенций",
          "x": 0.5,
          "xanchor": "center",
          "xref": "paper",
          "y": 0.39375,
          "yanchor": "bottom",
          "yref": "paper"
         }
        ],
        "polar": {
         "domain": {
          "x": [
           0,
           1
          ],
          "y": [
           0.44375,
           0.78125
          ]
         }
        },
        "template": {
         "data": {
          "bar": [
           {
            "error_x": {
             "color": "#2a3f5f"
            },
            "error_y": {
             "color": "#2a3f5f"
            },
            "marker": {
             "line": {
              "color": "#E5ECF6",
              "width": 0.5
             },
             "pattern": {
              "fillmode": "overlay",
              "size": 10,
              "solidity": 0.2
             }
            },
            "type": "bar"
           }
          ],
          "barpolar": [
           {
            "marker": {
             "line": {
              "color": "#E5ECF6",
              "width": 0.5
             },
             "pattern": {
              "fillmode": "overlay",
              "size": 10,
              "solidity": 0.2
             }
            },
            "type": "barpolar"
           }
          ],
          "carpet": [
           {
            "aaxis": {
             "endlinecolor": "#2a3f5f",
             "gridcolor": "white",
             "linecolor": "white",
             "minorgridcolor": "white",
             "startlinecolor": "#2a3f5f"
            },
            "baxis": {
             "endlinecolor": "#2a3f5f",
             "gridcolor": "white",
             "linecolor": "white",
             "minorgridcolor": "white",
             "startlinecolor": "#2a3f5f"
            },
            "type": "carpet"
           }
          ],
          "choropleth": [
           {
            "colorbar": {
             "outlinewidth": 0,
             "ticks": ""
            },
            "type": "choropleth"
           }
          ],
          "contour": [
           {
            "colorbar": {
             "outlinewidth": 0,
             "ticks": ""
            },
            "colorscale": [
             [
              0,
              "#0d0887"
             ],
             [
              0.1111111111111111,
              "#46039f"
             ],
             [
              0.2222222222222222,
              "#7201a8"
             ],
             [
              0.3333333333333333,
              "#9c179e"
             ],
             [
              0.4444444444444444,
              "#bd3786"
             ],
             [
              0.5555555555555556,
              "#d8576b"
             ],
             [
              0.6666666666666666,
              "#ed7953"
             ],
             [
              0.7777777777777778,
              "#fb9f3a"
             ],
             [
              0.8888888888888888,
              "#fdca26"
             ],
             [
              1,
              "#f0f921"
             ]
            ],
            "type": "contour"
           }
          ],
          "contourcarpet": [
           {
            "colorbar": {
             "outlinewidth": 0,
             "ticks": ""
            },
            "type": "contourcarpet"
           }
          ],
          "heatmap": [
           {
            "colorbar": {
             "outlinewidth": 0,
             "ticks": ""
            },
            "colorscale": [
             [
              0,
              "#0d0887"
             ],
             [
              0.1111111111111111,
              "#46039f"
             ],
             [
              0.2222222222222222,
              "#7201a8"
             ],
             [
              0.3333333333333333,
              "#9c179e"
             ],
             [
              0.4444444444444444,
              "#bd3786"
             ],
             [
              0.5555555555555556,
              "#d8576b"
             ],
             [
              0.6666666666666666,
              "#ed7953"
             ],
             [
              0.7777777777777778,
              "#fb9f3a"
             ],
             [
              0.8888888888888888,
              "#fdca26"
             ],
             [
              1,
              "#f0f921"
             ]
            ],
            "type": "heatmap"
           }
          ],
          "histogram": [
           {
            "marker": {
             "pattern": {
              "fillmode": "overlay",
              "size": 10,
              "solidity": 0.2
             }
            },
            "type": "histogram"
           }
          ],
          "histogram2d": [
           {
            "colorbar": {
             "outlinewidth": 0,
             "ticks": ""
            },
            "colorscale": [
             [
              0,
              "#0d0887"
             ],
             [
              0.1111111111111111,
              "#46039f"
             ],
             [
              0.2222222222222222,
              "#7201a8"
             ],
             [
              0.3333333333333333,
              "#9c179e"
             ],
             [
              0.4444444444444444,
              "#bd3786"
             ],
             [
              0.5555555555555556,
              "#d8576b"
             ],
             [
              0.6666666666666666,
              "#ed7953"
             ],
             [
              0.7777777777777778,
              "#fb9f3a"
             ],
             [
              0.8888888888888888,
              "#fdca26"
             ],
             [
              1,
              "#f0f921"
             ]
            ],
            "type": "histogram2d"
           }
          ],
          "histogram2dcontour": [
           {
            "colorbar": {
             "outlinewidth": 0,
             "ticks": ""
            },
            "colorscale": [
             [
              0,
              "#0d0887"
             ],
             [
              0.1111111111111111,
              "#46039f"
             ],
             [
              0.2222222222222222,
              "#7201a8"
             ],
             [
              0.3333333333333333,
              "#9c179e"
             ],
             [
              0.4444444444444444,
              "#bd3786"
             ],
             [
              0.5555555555555556,
              "#d8576b"
             ],
             [
              0.6666666666666666,
              "#ed7953"
             ],
             [
              0.7777777777777778,
              "#fb9f3a"
             ],
             [
              0.8888888888888888,
              "#fdca26"
             ],
             [
              1,
              "#f0f921"
             ]
            ],
            "type": "histogram2dcontour"
           }
          ],
          "mesh3d": [
           {
            "colorbar": {
             "outlinewidth": 0,
             "ticks": ""
            },
            "type": "mesh3d"
           }
          ],
          "parcoords": [
           {
            "line": {
             "colorbar": {
              "outlinewidth": 0,
              "ticks": ""
             }
            },
            "type": "parcoords"
           }
          ],
          "pie": [
           {
            "automargin": true,
            "type": "pie"
           }
          ],
          "scatter": [
           {
            "fillpattern": {
             "fillmode": "overlay",
             "size": 10,
             "solidity": 0.2
            },
            "type": "scatter"
           }
          ],
          "scatter3d": [
           {
            "line": {
             "colorbar": {
              "outlinewidth": 0,
              "ticks": ""
             }
            },
            "marker": {
             "colorbar": {
              "outlinewidth": 0,
              "ticks": ""
             }
            },
            "type": "scatter3d"
           }
          ],
          "scattercarpet": [
           {
            "marker": {
             "colorbar": {
              "outlinewidth": 0,
              "ticks": ""
             }
            },
            "type": "scattercarpet"
           }
          ],
          "scattergeo": [
           {
            "marker": {
             "colorbar": {
              "outlinewidth": 0,
              "ticks": ""
             }
            },
            "type": "scattergeo"
           }
          ],
          "scattergl": [
           {
            "marker": {
             "colorbar": {
              "outlinewidth": 0,
              "ticks": ""
             }
            },
            "type": "scattergl"
           }
          ],
          "scattermap": [
           {
            "marker": {
             "colorbar": {
              "outlinewidth": 0,
              "ticks": ""
             }
            },
            "type": "scattermap"
           }
          ],
          "scattermapbox": [
           {
            "marker": {
             "colorbar": {
              "outlinewidth": 0,
              "ticks": ""
             }
            },
            "type": "scattermapbox"
           }
          ],
          "scatterpolar": [
           {
            "marker": {
             "colorbar": {
              "outlinewidth": 0,
              "ticks": ""
             }
            },
            "type": "scatterpolar"
           }
          ],
          "scatterpolargl": [
           {
            "marker": {
             "colorbar": {
              "outlinewidth": 0,
              "ticks": ""
             }
            },
            "type": "scatterpolargl"
           }
          ],
          "scatterternary": [
           {
            "marker": {
             "colorbar": {
              "outlinewidth": 0,
              "ticks": ""
             }
            },
            "type": "scatterternary"
           }
          ],
          "surface": [
           {
            "colorbar": {
             "outlinewidth": 0,
             "ticks": ""
            },
            "colorscale": [
             [
              0,
              "#0d0887"
             ],
             [
              0.1111111111111111,
              "#46039f"
             ],
             [
              0.2222222222222222,
              "#7201a8"
             ],
             [
              0.3333333333333333,
              "#9c179e"
             ],
             [
              0.4444444444444444,
              "#bd3786"
             ],
             [
              0.5555555555555556,
              "#d8576b"
             ],
             [
              0.6666666666666666,
              "#ed7953"
             ],
             [
              0.7777777777777778,
              "#fb9f3a"
             ],
             [
              0.8888888888888888,
              "#fdca26"
             ],
             [
              1,
              "#f0f921"
             ]
            ],
            "type": "surface"
           }
          ],
          "table": [
           {
            "cells": {
             "fill": {
              "color": "#EBF0F8"
             },
             "line": {
              "color": "white"
             }
            },
            "header": {
             "fill": {
              "color": "#C8D4E3"
             },
             "line": {
              "color": "white"
             }
            },
            "type": "table"
           }
          ]
         },
         "layout": {
          "annotationdefaults": {
           "arrowcolor": "#2a3f5f",
           "arrowhead": 0,
           "arrowwidth": 1
          },
          "autotypenumbers": "strict",
          "coloraxis": {
           "colorbar": {
            "outlinewidth": 0,
            "ticks": ""
           }
          },
          "colorscale": {
           "diverging": [
            [
             0,
             "#8e0152"
            ],
            [
             0.1,
             "#c51b7d"
            ],
            [
             0.2,
             "#de77ae"
            ],
            [
             0.3,
             "#f1b6da"
            ],
            [
             0.4,
             "#fde0ef"
            ],
            [
             0.5,
             "#f7f7f7"
            ],
            [
             0.6,
             "#e6f5d0"
            ],
            [
             0.7,
             "#b8e186"
            ],
            [
             0.8,
             "#7fbc41"
            ],
            [
             0.9,
             "#4d9221"
            ],
            [
             1,
             "#276419"
            ]
           ],
           "sequential": [
            [
             0,
             "#0d0887"
            ],
            [
             0.1111111111111111,
             "#46039f"
            ],
            [
             0.2222222222222222,
             "#7201a8"
            ],
            [
             0.3333333333333333,
             "#9c179e"
            ],
            [
             0.4444444444444444,
             "#bd3786"
            ],
            [
             0.5555555555555556,
             "#d8576b"
            ],
            [
             0.6666666666666666,
             "#ed7953"
            ],
            [
             0.7777777777777778,
             "#fb9f3a"
            ],
            [
             0.8888888888888888,
             "#fdca26"
            ],
            [
             1,
             "#f0f921"
            ]
           ],
           "sequentialminus": [
            [
             0,
             "#0d0887"
            ],
            [
             0.1111111111111111,
             "#46039f"
            ],
            [
             0.2222222222222222,
             "#7201a8"
            ],
            [
             0.3333333333333333,
             "#9c179e"
            ],
            [
             0.4444444444444444,
             "#bd3786"
            ],
            [
             0.5555555555555556,
             "#d8576b"
            ],
            [
             0.6666666666666666,
             "#ed7953"
            ],
            [
             0.7777777777777778,
             "#fb9f3a"
            ],
            [
             0.8888888888888888,
             "#fdca26"
            ],
            [
             1,
             "#f0f921"
            ]
           ]
          },
          "colorway": [
           "#636efa",
           "#EF553B",
           "#00cc96",
           "#ab63fa",
           "#FFA15A",
           "#19d3f3",
           "#FF6692",
           "#B6E880",
           "#FF97FF",
           "#FECB52"
          ],
          "font": {
           "color": "#2a3f5f"
          },
          "geo": {
           "bgcolor": "white",
           "lakecolor": "white",
           "landcolor": "#E5ECF6",
           "showlakes": true,
           "showland": true,
           "subunitcolor": "white"
          },
          "hoverlabel": {
           "align": "left"
          },
          "hovermode": "closest",
          "mapbox": {
           "style": "light"
          },
          "paper_bgcolor": "white",
          "plot_bgcolor": "#E5ECF6",
          "polar": {
           "angularaxis": {
            "gridcolor": "white",
            "linecolor": "white",
            "ticks": ""
           },
           "bgcolor": "#E5ECF6",
           "radialaxis": {
            "gridcolor": "white",
            "linecolor": "white",
            "ticks": ""
           }
          },
          "scene": {
           "xaxis": {
            "backgroundcolor": "#E5ECF6",
            "gridcolor": "white",
            "gridwidth": 2,
            "linecolor": "white",
            "showbackground": true,
            "ticks": "",
            "zerolinecolor": "white"
           },
           "yaxis": {
            "backgroundcolor": "#E5ECF6",
            "gridcolor": "white",
            "gridwidth": 2,
            "linecolor": "white",
            "showbackground": true,
            "ticks": "",
            "zerolinecolor": "white"
           },
           "zaxis": {
            "backgroundcolor": "#E5ECF6",
            "gridcolor": "white",
            "gridwidth": 2,
            "linecolor": "white",
            "showbackground": true,
            "ticks": "",
            "zerolinecolor": "white"
           }
          },
          "shapedefaults": {
           "line": {
            "color": "#2a3f5f"
           }
          },
          "ternary": {
           "aaxis": {
            "gridcolor": "white",
            "linecolor": "white",
            "ticks": ""
           },
           "baxis": {
            "gridcolor": "white",
            "linecolor": "white",
            "ticks": ""
           },
           "bgcolor": "#E5ECF6",
           "caxis": {
            "gridcolor": "white",
            "linecolor": "white",
            "ticks": ""
           }
          },
          "title": {
           "x": 0.05
          },
          "xaxis": {
           "automargin": true,
           "gridcolor": "white",
           "linecolor": "white",
           "ticks": "",
           "title": {
            "standoff": 15
           },
           "zerolinecolor": "white",
           "zerolinewidth": 2
          },
          "yaxis": {
           "automargin": true,
           "gridcolor": "white",
           "linecolor": "white",
           "ticks": "",
           "title": {
            "standoff": 15
           },
           "zerolinecolor": "white",
           "zerolinewidth": 2
          }
         }
        }
       }
      }
     },
     "metadata": {},
     "output_type": "display_data"
    }
   ],
   "source": [
    "fig.add_trace(go.Table(\n",
    "    hoverinfo=None,\n",
    "    columnwidth=[0.06,0.86,0.08],\n",
    "    header=dict(align='center',\n",
    "        values=['Номер','Описание','Уровень владения']),\n",
    "    cells=dict(align='left',\n",
    "               height=25,\n",
    "        values=[experience['Kind'],expertiseKinds,data['Value'][1][6]])\n",
    "),\n",
    "row=3, col=1\n",
    ")"
   ]
  },
  {
   "cell_type": "markdown",
   "id": "dedaf061",
   "metadata": {},
   "source": [
    "5. Настройка отчета для отображения информации"
   ]
  },
  {
   "cell_type": "markdown",
   "id": "a57ee7ef",
   "metadata": {},
   "source": [
    "Заголовки блоков прижимаем к левому краю"
   ]
  },
  {
   "cell_type": "code",
   "execution_count": 19,
   "id": "91fb0661",
   "metadata": {},
   "outputs": [],
   "source": [
    "for annotation in fig['layout']['annotations']:\n",
    "    annotation['xanchor']='left'\n",
    "    annotation['x']=0\n",
    "    annotation['yref']='paper'"
   ]
  },
  {
   "cell_type": "markdown",
   "id": "f91b81c5",
   "metadata": {},
   "source": [
    "Настраиваем вывод:\n",
    "- назначаем шаблон отрисовки\n",
    "- добавляем название\n",
    "- устанавливаем размеры\n",
    "- выключаем отображение легенды\n",
    "- для RadarChart рисуем размерную сетку"
   ]
  },
  {
   "cell_type": "code",
   "execution_count": 20,
   "id": "3f3821f2",
   "metadata": {},
   "outputs": [
    {
     "data": {
      "application/vnd.plotly.v1+json": {
       "config": {
        "plotlyServerURL": "https://plot.ly"
       },
       "data": [
        {
         "cells": {
          "align": "left",
          "height": 25,
          "values": [
           [
            "name",
            "phone",
            "email",
            "level",
            "available",
            "work type"
           ],
           [
            "Дмитрий Тест",
            "+7 (911) 111-11-11",
            "-",
            "Junior — стажер “интерн“ после обучения",
            "-",
            "В офисе"
           ]
          ]
         },
         "columnwidth": [
          0.1,
          0.9,
          0
         ],
         "domain": {
          "x": [
           0,
           1
          ],
          "y": [
           0.8312499999999999,
           1
          ]
         },
         "header": {
          "align": "left",
          "height": 0,
          "values": [
           "",
           ""
          ]
         },
         "type": "table"
        },
        {
         "customdata": [
          "Знаю только теорию",
          "Знаю только теорию",
          "Знаю только теорию",
          "Знаю только теорию",
          "Знаю только теорию",
          "Знаю только теорию",
          "Знаю только теорию",
          "Знаю только теорию",
          "Знаю только теорию",
          "Знаю только теорию",
          "Знаю только теорию"
         ],
         "fill": "tonext",
         "fillcolor": "rgba(226,120,123,0.2)",
         "hovertemplate": "%{customdata}",
         "line": {
          "color": "grey"
         },
         "marker": {
          "color": [
           "rgba(72,161,56,1)",
           "rgba(72,161,56,1)",
           "rgba(72,161,56,1)",
           "rgba(72,161,56,1)",
           "rgba(72,161,56,1)",
           "rgba(72,161,56,1)",
           "rgba(72,161,56,1)",
           "rgba(72,161,56,1)",
           "rgba(72,161,56,1)",
           "rgba(72,161,56,1)",
           "rgba(72,161,56,1)"
          ],
          "size": 8
         },
         "mode": "lines+markers",
         "name": "Reference",
         "r": [
          2,
          2,
          2,
          2,
          2,
          2,
          2,
          2,
          2,
          2,
          2
         ],
         "subplot": "polar",
         "theta": [
          "1",
          "2",
          "3",
          "4",
          "5",
          "6",
          "7",
          "8",
          "9",
          "10",
          "1"
         ],
         "type": "scatterpolar"
        },
        {
         "customdata": [
          "Владею в совершенстве и активно использую на практике",
          "Знаю теорию и применяю на практике, но есть сложности",
          "Использую на практике, теории не знаю",
          "Знаю только теорию",
          "Знаю теорию и применяю на практике, но есть сложности",
          "Владею в совершенстве и активно использую на практике",
          "Знаю теорию и применяю на практике, но есть сложности",
          "Не знаю вообще как",
          "Использую на практике, теории не знаю",
          "Знаю теорию и применяю на практике, но есть сложности",
          "Владею в совершенстве и активно использую на практике"
         ],
         "fill": "tonext",
         "fillcolor": "rgba(72,161,56,0.4)",
         "hovertemplate": "%{customdata}",
         "line": {
          "color": "grey"
         },
         "marker": {
          "color": [
           "rgba(72,161,56,1)",
           "rgba(72,161,56,1)",
           "rgba(72,161,56,1)",
           "rgba(72,161,56,1)",
           "rgba(72,161,56,1)",
           "rgba(72,161,56,1)",
           "rgba(72,161,56,1)",
           "rgba(226,120,123,1)",
           "rgba(72,161,56,1)",
           "rgba(72,161,56,1)",
           "rgba(72,161,56,1)"
          ],
          "size": 8
         },
         "mode": "lines+markers",
         "name": "Дмитрий Тест",
         "r": [
          5,
          3,
          4,
          2,
          3,
          5,
          3,
          1,
          4,
          3,
          5
         ],
         "subplot": "polar",
         "theta": [
          "1",
          "2",
          "3",
          "4",
          "5",
          "6",
          "7",
          "8",
          "9",
          "10",
          "1"
         ],
         "type": "scatterpolar"
        },
        {
         "cells": {
          "align": "left",
          "height": 25,
          "values": [
           [
            "1",
            "2",
            "3",
            "4",
            "5",
            "6",
            "7",
            "8",
            "9",
            "10"
           ],
           [
            "Применение BPMN-нотации для моделирования бизнес-процессов в ИТ-проекте",
            "Выделение ролей, определение взаимосвязей и шагов процесса с учетом стандартов BPMN",
            "Создание контекстной диаграммы для иллюстрации взаимосвязей между системой проекта и внешними стейкхолдерами",
            "Использование нотации C4 для описания контекста проекта, структуры системы, ее компонентов и программного кода",
            "Визуализация архитектуры проекта с учетом различных уровней абстракции",
            "Организация интервью с участниками проекта для выявления требований и понимания потребностей стейкхолдеров",
            "Анализ полученной информации для интеграции в бизнес-процессы и архитектуру проекта",
            "Разработка карт пользовательских историй для визуализации последовательности пользовательских взаимодействий с системой",
            "Использование Opportunity Canvas для выявления и оценки возможностей улучшения проекта",
            "Анализ потенциальных выгод и рисков для принятия информированных решений"
           ],
           [
            5,
            3,
            4,
            2,
            3,
            5,
            3,
            1,
            4,
            3
           ]
          ]
         },
         "columnwidth": [
          0.06,
          0.86,
          0.08
         ],
         "domain": {
          "x": [
           0,
           1
          ],
          "y": [
           0,
           0.39375
          ]
         },
         "header": {
          "align": "center",
          "values": [
           "Номер",
           "Описание",
           "Уровень владения"
          ]
         },
         "type": "table"
        }
       ],
       "layout": {
        "annotations": [
         {
          "font": {
           "size": 16
          },
          "showarrow": false,
          "text": "Инфо",
          "x": 0,
          "xanchor": "left",
          "xref": "paper",
          "y": 1,
          "yanchor": "bottom",
          "yref": "paper"
         },
         {
          "font": {
           "size": 16
          },
          "showarrow": false,
          "text": "Список компетенций",
          "x": 0,
          "xanchor": "left",
          "xref": "paper",
          "y": 0.39375,
          "yanchor": "bottom",
          "yref": "paper"
         }
        ],
        "height": 1200,
        "polar": {
         "domain": {
          "x": [
           0,
           1
          ],
          "y": [
           0.44375,
           0.78125
          ]
         },
         "radialaxis": {
          "range": [
           0,
           6
          ],
          "visible": true
         }
        },
        "showlegend": false,
        "template": {
         "data": {
          "bar": [
           {
            "error_x": {
             "color": "rgb(51,51,51)"
            },
            "error_y": {
             "color": "rgb(51,51,51)"
            },
            "marker": {
             "line": {
              "color": "rgb(237,237,237)",
              "width": 0.5
             },
             "pattern": {
              "fillmode": "overlay",
              "size": 10,
              "solidity": 0.2
             }
            },
            "type": "bar"
           }
          ],
          "barpolar": [
           {
            "marker": {
             "line": {
              "color": "rgb(237,237,237)",
              "width": 0.5
             },
             "pattern": {
              "fillmode": "overlay",
              "size": 10,
              "solidity": 0.2
             }
            },
            "type": "barpolar"
           }
          ],
          "carpet": [
           {
            "aaxis": {
             "endlinecolor": "rgb(51,51,51)",
             "gridcolor": "white",
             "linecolor": "white",
             "minorgridcolor": "white",
             "startlinecolor": "rgb(51,51,51)"
            },
            "baxis": {
             "endlinecolor": "rgb(51,51,51)",
             "gridcolor": "white",
             "linecolor": "white",
             "minorgridcolor": "white",
             "startlinecolor": "rgb(51,51,51)"
            },
            "type": "carpet"
           }
          ],
          "choropleth": [
           {
            "colorbar": {
             "outlinewidth": 0,
             "tickcolor": "rgb(237,237,237)",
             "ticklen": 6,
             "ticks": "inside"
            },
            "type": "choropleth"
           }
          ],
          "contour": [
           {
            "colorbar": {
             "outlinewidth": 0,
             "tickcolor": "rgb(237,237,237)",
             "ticklen": 6,
             "ticks": "inside"
            },
            "colorscale": [
             [
              0,
              "rgb(20,44,66)"
             ],
             [
              1,
              "rgb(90,179,244)"
             ]
            ],
            "type": "contour"
           }
          ],
          "contourcarpet": [
           {
            "colorbar": {
             "outlinewidth": 0,
             "tickcolor": "rgb(237,237,237)",
             "ticklen": 6,
             "ticks": "inside"
            },
            "type": "contourcarpet"
           }
          ],
          "heatmap": [
           {
            "colorbar": {
             "outlinewidth": 0,
             "tickcolor": "rgb(237,237,237)",
             "ticklen": 6,
             "ticks": "inside"
            },
            "colorscale": [
             [
              0,
              "rgb(20,44,66)"
             ],
             [
              1,
              "rgb(90,179,244)"
             ]
            ],
            "type": "heatmap"
           }
          ],
          "histogram": [
           {
            "marker": {
             "pattern": {
              "fillmode": "overlay",
              "size": 10,
              "solidity": 0.2
             }
            },
            "type": "histogram"
           }
          ],
          "histogram2d": [
           {
            "colorbar": {
             "outlinewidth": 0,
             "tickcolor": "rgb(237,237,237)",
             "ticklen": 6,
             "ticks": "inside"
            },
            "colorscale": [
             [
              0,
              "rgb(20,44,66)"
             ],
             [
              1,
              "rgb(90,179,244)"
             ]
            ],
            "type": "histogram2d"
           }
          ],
          "histogram2dcontour": [
           {
            "colorbar": {
             "outlinewidth": 0,
             "tickcolor": "rgb(237,237,237)",
             "ticklen": 6,
             "ticks": "inside"
            },
            "colorscale": [
             [
              0,
              "rgb(20,44,66)"
             ],
             [
              1,
              "rgb(90,179,244)"
             ]
            ],
            "type": "histogram2dcontour"
           }
          ],
          "mesh3d": [
           {
            "colorbar": {
             "outlinewidth": 0,
             "tickcolor": "rgb(237,237,237)",
             "ticklen": 6,
             "ticks": "inside"
            },
            "type": "mesh3d"
           }
          ],
          "parcoords": [
           {
            "line": {
             "colorbar": {
              "outlinewidth": 0,
              "tickcolor": "rgb(237,237,237)",
              "ticklen": 6,
              "ticks": "inside"
             }
            },
            "type": "parcoords"
           }
          ],
          "pie": [
           {
            "automargin": true,
            "type": "pie"
           }
          ],
          "scatter": [
           {
            "fillpattern": {
             "fillmode": "overlay",
             "size": 10,
             "solidity": 0.2
            },
            "type": "scatter"
           }
          ],
          "scatter3d": [
           {
            "line": {
             "colorbar": {
              "outlinewidth": 0,
              "tickcolor": "rgb(237,237,237)",
              "ticklen": 6,
              "ticks": "inside"
             }
            },
            "marker": {
             "colorbar": {
              "outlinewidth": 0,
              "tickcolor": "rgb(237,237,237)",
              "ticklen": 6,
              "ticks": "inside"
             }
            },
            "type": "scatter3d"
           }
          ],
          "scattercarpet": [
           {
            "marker": {
             "colorbar": {
              "outlinewidth": 0,
              "tickcolor": "rgb(237,237,237)",
              "ticklen": 6,
              "ticks": "inside"
             }
            },
            "type": "scattercarpet"
           }
          ],
          "scattergeo": [
           {
            "marker": {
             "colorbar": {
              "outlinewidth": 0,
              "tickcolor": "rgb(237,237,237)",
              "ticklen": 6,
              "ticks": "inside"
             }
            },
            "type": "scattergeo"
           }
          ],
          "scattergl": [
           {
            "marker": {
             "colorbar": {
              "outlinewidth": 0,
              "tickcolor": "rgb(237,237,237)",
              "ticklen": 6,
              "ticks": "inside"
             }
            },
            "type": "scattergl"
           }
          ],
          "scattermap": [
           {
            "marker": {
             "colorbar": {
              "outlinewidth": 0,
              "tickcolor": "rgb(237,237,237)",
              "ticklen": 6,
              "ticks": "inside"
             }
            },
            "type": "scattermap"
           }
          ],
          "scattermapbox": [
           {
            "marker": {
             "colorbar": {
              "outlinewidth": 0,
              "tickcolor": "rgb(237,237,237)",
              "ticklen": 6,
              "ticks": "inside"
             }
            },
            "type": "scattermapbox"
           }
          ],
          "scatterpolar": [
           {
            "marker": {
             "colorbar": {
              "outlinewidth": 0,
              "tickcolor": "rgb(237,237,237)",
              "ticklen": 6,
              "ticks": "inside"
             }
            },
            "type": "scatterpolar"
           }
          ],
          "scatterpolargl": [
           {
            "marker": {
             "colorbar": {
              "outlinewidth": 0,
              "tickcolor": "rgb(237,237,237)",
              "ticklen": 6,
              "ticks": "inside"
             }
            },
            "type": "scatterpolargl"
           }
          ],
          "scatterternary": [
           {
            "marker": {
             "colorbar": {
              "outlinewidth": 0,
              "tickcolor": "rgb(237,237,237)",
              "ticklen": 6,
              "ticks": "inside"
             }
            },
            "type": "scatterternary"
           }
          ],
          "surface": [
           {
            "colorbar": {
             "outlinewidth": 0,
             "tickcolor": "rgb(237,237,237)",
             "ticklen": 6,
             "ticks": "inside"
            },
            "colorscale": [
             [
              0,
              "rgb(20,44,66)"
             ],
             [
              1,
              "rgb(90,179,244)"
             ]
            ],
            "type": "surface"
           }
          ],
          "table": [
           {
            "cells": {
             "fill": {
              "color": "rgb(237,237,237)"
             },
             "line": {
              "color": "white"
             }
            },
            "header": {
             "fill": {
              "color": "rgb(217,217,217)"
             },
             "line": {
              "color": "white"
             }
            },
            "type": "table"
           }
          ]
         },
         "layout": {
          "annotationdefaults": {
           "arrowhead": 0,
           "arrowwidth": 1
          },
          "autotypenumbers": "strict",
          "coloraxis": {
           "colorbar": {
            "outlinewidth": 0,
            "tickcolor": "rgb(237,237,237)",
            "ticklen": 6,
            "ticks": "inside"
           }
          },
          "colorscale": {
           "sequential": [
            [
             0,
             "rgb(20,44,66)"
            ],
            [
             1,
             "rgb(90,179,244)"
            ]
           ],
           "sequentialminus": [
            [
             0,
             "rgb(20,44,66)"
            ],
            [
             1,
             "rgb(90,179,244)"
            ]
           ]
          },
          "colorway": [
           "#F8766D",
           "#A3A500",
           "#00BF7D",
           "#00B0F6",
           "#E76BF3"
          ],
          "font": {
           "color": "rgb(51,51,51)"
          },
          "geo": {
           "bgcolor": "white",
           "lakecolor": "white",
           "landcolor": "rgb(237,237,237)",
           "showlakes": true,
           "showland": true,
           "subunitcolor": "white"
          },
          "hoverlabel": {
           "align": "left"
          },
          "hovermode": "closest",
          "paper_bgcolor": "white",
          "plot_bgcolor": "rgb(237,237,237)",
          "polar": {
           "angularaxis": {
            "gridcolor": "white",
            "linecolor": "white",
            "showgrid": true,
            "tickcolor": "rgb(51,51,51)",
            "ticks": "outside"
           },
           "bgcolor": "rgb(237,237,237)",
           "radialaxis": {
            "gridcolor": "white",
            "linecolor": "white",
            "showgrid": true,
            "tickcolor": "rgb(51,51,51)",
            "ticks": "outside"
           }
          },
          "scene": {
           "xaxis": {
            "backgroundcolor": "rgb(237,237,237)",
            "gridcolor": "white",
            "gridwidth": 2,
            "linecolor": "white",
            "showbackground": true,
            "showgrid": true,
            "tickcolor": "rgb(51,51,51)",
            "ticks": "outside",
            "zerolinecolor": "white"
           },
           "yaxis": {
            "backgroundcolor": "rgb(237,237,237)",
            "gridcolor": "white",
            "gridwidth": 2,
            "linecolor": "white",
            "showbackground": true,
            "showgrid": true,
            "tickcolor": "rgb(51,51,51)",
            "ticks": "outside",
            "zerolinecolor": "white"
           },
           "zaxis": {
            "backgroundcolor": "rgb(237,237,237)",
            "gridcolor": "white",
            "gridwidth": 2,
            "linecolor": "white",
            "showbackground": true,
            "showgrid": true,
            "tickcolor": "rgb(51,51,51)",
            "ticks": "outside",
            "zerolinecolor": "white"
           }
          },
          "shapedefaults": {
           "fillcolor": "black",
           "line": {
            "width": 0
           },
           "opacity": 0.3
          },
          "ternary": {
           "aaxis": {
            "gridcolor": "white",
            "linecolor": "white",
            "showgrid": true,
            "tickcolor": "rgb(51,51,51)",
            "ticks": "outside"
           },
           "baxis": {
            "gridcolor": "white",
            "linecolor": "white",
            "showgrid": true,
            "tickcolor": "rgb(51,51,51)",
            "ticks": "outside"
           },
           "bgcolor": "rgb(237,237,237)",
           "caxis": {
            "gridcolor": "white",
            "linecolor": "white",
            "showgrid": true,
            "tickcolor": "rgb(51,51,51)",
            "ticks": "outside"
           }
          },
          "xaxis": {
           "automargin": true,
           "gridcolor": "white",
           "linecolor": "white",
           "showgrid": true,
           "tickcolor": "rgb(51,51,51)",
           "ticks": "outside",
           "title": {
            "standoff": 15
           },
           "zerolinecolor": "white"
          },
          "yaxis": {
           "automargin": true,
           "gridcolor": "white",
           "linecolor": "white",
           "showgrid": true,
           "tickcolor": "rgb(51,51,51)",
           "ticks": "outside",
           "title": {
            "standoff": 15
           },
           "zerolinecolor": "white"
          }
         }
        },
        "title": {
         "text": "Компетенция 1"
        },
        "width": 1000
       }
      }
     },
     "metadata": {},
     "output_type": "display_data"
    }
   ],
   "source": [
    "fig.update_layout(\n",
    "    template='ggplot2',\n",
    "    title=dict(text=expertise),\n",
    "    height=1200,\n",
    "    width=1000,\n",
    "    showlegend=False,    \n",
    "    polar=dict(\n",
    "        radialaxis=dict(\n",
    "            range=[0,6],\n",
    "            visible=True),\n",
    "    ),\n",
    ")"
   ]
  },
  {
   "cell_type": "markdown",
   "id": "c93e1535",
   "metadata": {},
   "source": [
    "6. Выводим сформированный отчет"
   ]
  },
  {
   "cell_type": "code",
   "execution_count": 21,
   "id": "581fd46a",
   "metadata": {},
   "outputs": [
    {
     "data": {
      "application/vnd.plotly.v1+json": {
       "config": {
        "plotlyServerURL": "https://plot.ly"
       },
       "data": [
        {
         "cells": {
          "align": "left",
          "height": 25,
          "values": [
           [
            "name",
            "phone",
            "email",
            "level",
            "available",
            "work type"
           ],
           [
            "Дмитрий Тест",
            "+7 (911) 111-11-11",
            "-",
            "Junior — стажер “интерн“ после обучения",
            "-",
            "В офисе"
           ]
          ]
         },
         "columnwidth": [
          0.1,
          0.9,
          0
         ],
         "domain": {
          "x": [
           0,
           1
          ],
          "y": [
           0.8312499999999999,
           1
          ]
         },
         "header": {
          "align": "left",
          "height": 0,
          "values": [
           "",
           ""
          ]
         },
         "type": "table"
        },
        {
         "customdata": [
          "Знаю только теорию",
          "Знаю только теорию",
          "Знаю только теорию",
          "Знаю только теорию",
          "Знаю только теорию",
          "Знаю только теорию",
          "Знаю только теорию",
          "Знаю только теорию",
          "Знаю только теорию",
          "Знаю только теорию",
          "Знаю только теорию"
         ],
         "fill": "tonext",
         "fillcolor": "rgba(226,120,123,0.2)",
         "hovertemplate": "%{customdata}",
         "line": {
          "color": "grey"
         },
         "marker": {
          "color": [
           "rgba(72,161,56,1)",
           "rgba(72,161,56,1)",
           "rgba(72,161,56,1)",
           "rgba(72,161,56,1)",
           "rgba(72,161,56,1)",
           "rgba(72,161,56,1)",
           "rgba(72,161,56,1)",
           "rgba(72,161,56,1)",
           "rgba(72,161,56,1)",
           "rgba(72,161,56,1)",
           "rgba(72,161,56,1)"
          ],
          "size": 8
         },
         "mode": "lines+markers",
         "name": "Reference",
         "r": [
          2,
          2,
          2,
          2,
          2,
          2,
          2,
          2,
          2,
          2,
          2
         ],
         "subplot": "polar",
         "theta": [
          "1",
          "2",
          "3",
          "4",
          "5",
          "6",
          "7",
          "8",
          "9",
          "10",
          "1"
         ],
         "type": "scatterpolar"
        },
        {
         "customdata": [
          "Владею в совершенстве и активно использую на практике",
          "Знаю теорию и применяю на практике, но есть сложности",
          "Использую на практике, теории не знаю",
          "Знаю только теорию",
          "Знаю теорию и применяю на практике, но есть сложности",
          "Владею в совершенстве и активно использую на практике",
          "Знаю теорию и применяю на практике, но есть сложности",
          "Не знаю вообще как",
          "Использую на практике, теории не знаю",
          "Знаю теорию и применяю на практике, но есть сложности",
          "Владею в совершенстве и активно использую на практике"
         ],
         "fill": "tonext",
         "fillcolor": "rgba(72,161,56,0.4)",
         "hovertemplate": "%{customdata}",
         "line": {
          "color": "grey"
         },
         "marker": {
          "color": [
           "rgba(72,161,56,1)",
           "rgba(72,161,56,1)",
           "rgba(72,161,56,1)",
           "rgba(72,161,56,1)",
           "rgba(72,161,56,1)",
           "rgba(72,161,56,1)",
           "rgba(72,161,56,1)",
           "rgba(226,120,123,1)",
           "rgba(72,161,56,1)",
           "rgba(72,161,56,1)",
           "rgba(72,161,56,1)"
          ],
          "size": 8
         },
         "mode": "lines+markers",
         "name": "Дмитрий Тест",
         "r": [
          5,
          3,
          4,
          2,
          3,
          5,
          3,
          1,
          4,
          3,
          5
         ],
         "subplot": "polar",
         "theta": [
          "1",
          "2",
          "3",
          "4",
          "5",
          "6",
          "7",
          "8",
          "9",
          "10",
          "1"
         ],
         "type": "scatterpolar"
        },
        {
         "cells": {
          "align": "left",
          "height": 25,
          "values": [
           [
            "1",
            "2",
            "3",
            "4",
            "5",
            "6",
            "7",
            "8",
            "9",
            "10"
           ],
           [
            "Применение BPMN-нотации для моделирования бизнес-процессов в ИТ-проекте",
            "Выделение ролей, определение взаимосвязей и шагов процесса с учетом стандартов BPMN",
            "Создание контекстной диаграммы для иллюстрации взаимосвязей между системой проекта и внешними стейкхолдерами",
            "Использование нотации C4 для описания контекста проекта, структуры системы, ее компонентов и программного кода",
            "Визуализация архитектуры проекта с учетом различных уровней абстракции",
            "Организация интервью с участниками проекта для выявления требований и понимания потребностей стейкхолдеров",
            "Анализ полученной информации для интеграции в бизнес-процессы и архитектуру проекта",
            "Разработка карт пользовательских историй для визуализации последовательности пользовательских взаимодействий с системой",
            "Использование Opportunity Canvas для выявления и оценки возможностей улучшения проекта",
            "Анализ потенциальных выгод и рисков для принятия информированных решений"
           ],
           [
            5,
            3,
            4,
            2,
            3,
            5,
            3,
            1,
            4,
            3
           ]
          ]
         },
         "columnwidth": [
          0.06,
          0.86,
          0.08
         ],
         "domain": {
          "x": [
           0,
           1
          ],
          "y": [
           0,
           0.39375
          ]
         },
         "header": {
          "align": "center",
          "values": [
           "Номер",
           "Описание",
           "Уровень владения"
          ]
         },
         "type": "table"
        }
       ],
       "layout": {
        "annotations": [
         {
          "font": {
           "size": 16
          },
          "showarrow": false,
          "text": "Инфо",
          "x": 0,
          "xanchor": "left",
          "xref": "paper",
          "y": 1,
          "yanchor": "bottom",
          "yref": "paper"
         },
         {
          "font": {
           "size": 16
          },
          "showarrow": false,
          "text": "Список компетенций",
          "x": 0,
          "xanchor": "left",
          "xref": "paper",
          "y": 0.39375,
          "yanchor": "bottom",
          "yref": "paper"
         }
        ],
        "height": 1200,
        "polar": {
         "domain": {
          "x": [
           0,
           1
          ],
          "y": [
           0.44375,
           0.78125
          ]
         },
         "radialaxis": {
          "range": [
           0,
           6
          ],
          "visible": true
         }
        },
        "showlegend": false,
        "template": {
         "data": {
          "bar": [
           {
            "error_x": {
             "color": "rgb(51,51,51)"
            },
            "error_y": {
             "color": "rgb(51,51,51)"
            },
            "marker": {
             "line": {
              "color": "rgb(237,237,237)",
              "width": 0.5
             },
             "pattern": {
              "fillmode": "overlay",
              "size": 10,
              "solidity": 0.2
             }
            },
            "type": "bar"
           }
          ],
          "barpolar": [
           {
            "marker": {
             "line": {
              "color": "rgb(237,237,237)",
              "width": 0.5
             },
             "pattern": {
              "fillmode": "overlay",
              "size": 10,
              "solidity": 0.2
             }
            },
            "type": "barpolar"
           }
          ],
          "carpet": [
           {
            "aaxis": {
             "endlinecolor": "rgb(51,51,51)",
             "gridcolor": "white",
             "linecolor": "white",
             "minorgridcolor": "white",
             "startlinecolor": "rgb(51,51,51)"
            },
            "baxis": {
             "endlinecolor": "rgb(51,51,51)",
             "gridcolor": "white",
             "linecolor": "white",
             "minorgridcolor": "white",
             "startlinecolor": "rgb(51,51,51)"
            },
            "type": "carpet"
           }
          ],
          "choropleth": [
           {
            "colorbar": {
             "outlinewidth": 0,
             "tickcolor": "rgb(237,237,237)",
             "ticklen": 6,
             "ticks": "inside"
            },
            "type": "choropleth"
           }
          ],
          "contour": [
           {
            "colorbar": {
             "outlinewidth": 0,
             "tickcolor": "rgb(237,237,237)",
             "ticklen": 6,
             "ticks": "inside"
            },
            "colorscale": [
             [
              0,
              "rgb(20,44,66)"
             ],
             [
              1,
              "rgb(90,179,244)"
             ]
            ],
            "type": "contour"
           }
          ],
          "contourcarpet": [
           {
            "colorbar": {
             "outlinewidth": 0,
             "tickcolor": "rgb(237,237,237)",
             "ticklen": 6,
             "ticks": "inside"
            },
            "type": "contourcarpet"
           }
          ],
          "heatmap": [
           {
            "colorbar": {
             "outlinewidth": 0,
             "tickcolor": "rgb(237,237,237)",
             "ticklen": 6,
             "ticks": "inside"
            },
            "colorscale": [
             [
              0,
              "rgb(20,44,66)"
             ],
             [
              1,
              "rgb(90,179,244)"
             ]
            ],
            "type": "heatmap"
           }
          ],
          "histogram": [
           {
            "marker": {
             "pattern": {
              "fillmode": "overlay",
              "size": 10,
              "solidity": 0.2
             }
            },
            "type": "histogram"
           }
          ],
          "histogram2d": [
           {
            "colorbar": {
             "outlinewidth": 0,
             "tickcolor": "rgb(237,237,237)",
             "ticklen": 6,
             "ticks": "inside"
            },
            "colorscale": [
             [
              0,
              "rgb(20,44,66)"
             ],
             [
              1,
              "rgb(90,179,244)"
             ]
            ],
            "type": "histogram2d"
           }
          ],
          "histogram2dcontour": [
           {
            "colorbar": {
             "outlinewidth": 0,
             "tickcolor": "rgb(237,237,237)",
             "ticklen": 6,
             "ticks": "inside"
            },
            "colorscale": [
             [
              0,
              "rgb(20,44,66)"
             ],
             [
              1,
              "rgb(90,179,244)"
             ]
            ],
            "type": "histogram2dcontour"
           }
          ],
          "mesh3d": [
           {
            "colorbar": {
             "outlinewidth": 0,
             "tickcolor": "rgb(237,237,237)",
             "ticklen": 6,
             "ticks": "inside"
            },
            "type": "mesh3d"
           }
          ],
          "parcoords": [
           {
            "line": {
             "colorbar": {
              "outlinewidth": 0,
              "tickcolor": "rgb(237,237,237)",
              "ticklen": 6,
              "ticks": "inside"
             }
            },
            "type": "parcoords"
           }
          ],
          "pie": [
           {
            "automargin": true,
            "type": "pie"
           }
          ],
          "scatter": [
           {
            "fillpattern": {
             "fillmode": "overlay",
             "size": 10,
             "solidity": 0.2
            },
            "type": "scatter"
           }
          ],
          "scatter3d": [
           {
            "line": {
             "colorbar": {
              "outlinewidth": 0,
              "tickcolor": "rgb(237,237,237)",
              "ticklen": 6,
              "ticks": "inside"
             }
            },
            "marker": {
             "colorbar": {
              "outlinewidth": 0,
              "tickcolor": "rgb(237,237,237)",
              "ticklen": 6,
              "ticks": "inside"
             }
            },
            "type": "scatter3d"
           }
          ],
          "scattercarpet": [
           {
            "marker": {
             "colorbar": {
              "outlinewidth": 0,
              "tickcolor": "rgb(237,237,237)",
              "ticklen": 6,
              "ticks": "inside"
             }
            },
            "type": "scattercarpet"
           }
          ],
          "scattergeo": [
           {
            "marker": {
             "colorbar": {
              "outlinewidth": 0,
              "tickcolor": "rgb(237,237,237)",
              "ticklen": 6,
              "ticks": "inside"
             }
            },
            "type": "scattergeo"
           }
          ],
          "scattergl": [
           {
            "marker": {
             "colorbar": {
              "outlinewidth": 0,
              "tickcolor": "rgb(237,237,237)",
              "ticklen": 6,
              "ticks": "inside"
             }
            },
            "type": "scattergl"
           }
          ],
          "scattermap": [
           {
            "marker": {
             "colorbar": {
              "outlinewidth": 0,
              "tickcolor": "rgb(237,237,237)",
              "ticklen": 6,
              "ticks": "inside"
             }
            },
            "type": "scattermap"
           }
          ],
          "scattermapbox": [
           {
            "marker": {
             "colorbar": {
              "outlinewidth": 0,
              "tickcolor": "rgb(237,237,237)",
              "ticklen": 6,
              "ticks": "inside"
             }
            },
            "type": "scattermapbox"
           }
          ],
          "scatterpolar": [
           {
            "marker": {
             "colorbar": {
              "outlinewidth": 0,
              "tickcolor": "rgb(237,237,237)",
              "ticklen": 6,
              "ticks": "inside"
             }
            },
            "type": "scatterpolar"
           }
          ],
          "scatterpolargl": [
           {
            "marker": {
             "colorbar": {
              "outlinewidth": 0,
              "tickcolor": "rgb(237,237,237)",
              "ticklen": 6,
              "ticks": "inside"
             }
            },
            "type": "scatterpolargl"
           }
          ],
          "scatterternary": [
           {
            "marker": {
             "colorbar": {
              "outlinewidth": 0,
              "tickcolor": "rgb(237,237,237)",
              "ticklen": 6,
              "ticks": "inside"
             }
            },
            "type": "scatterternary"
           }
          ],
          "surface": [
           {
            "colorbar": {
             "outlinewidth": 0,
             "tickcolor": "rgb(237,237,237)",
             "ticklen": 6,
             "ticks": "inside"
            },
            "colorscale": [
             [
              0,
              "rgb(20,44,66)"
             ],
             [
              1,
              "rgb(90,179,244)"
             ]
            ],
            "type": "surface"
           }
          ],
          "table": [
           {
            "cells": {
             "fill": {
              "color": "rgb(237,237,237)"
             },
             "line": {
              "color": "white"
             }
            },
            "header": {
             "fill": {
              "color": "rgb(217,217,217)"
             },
             "line": {
              "color": "white"
             }
            },
            "type": "table"
           }
          ]
         },
         "layout": {
          "annotationdefaults": {
           "arrowhead": 0,
           "arrowwidth": 1
          },
          "autotypenumbers": "strict",
          "coloraxis": {
           "colorbar": {
            "outlinewidth": 0,
            "tickcolor": "rgb(237,237,237)",
            "ticklen": 6,
            "ticks": "inside"
           }
          },
          "colorscale": {
           "sequential": [
            [
             0,
             "rgb(20,44,66)"
            ],
            [
             1,
             "rgb(90,179,244)"
            ]
           ],
           "sequentialminus": [
            [
             0,
             "rgb(20,44,66)"
            ],
            [
             1,
             "rgb(90,179,244)"
            ]
           ]
          },
          "colorway": [
           "#F8766D",
           "#A3A500",
           "#00BF7D",
           "#00B0F6",
           "#E76BF3"
          ],
          "font": {
           "color": "rgb(51,51,51)"
          },
          "geo": {
           "bgcolor": "white",
           "lakecolor": "white",
           "landcolor": "rgb(237,237,237)",
           "showlakes": true,
           "showland": true,
           "subunitcolor": "white"
          },
          "hoverlabel": {
           "align": "left"
          },
          "hovermode": "closest",
          "paper_bgcolor": "white",
          "plot_bgcolor": "rgb(237,237,237)",
          "polar": {
           "angularaxis": {
            "gridcolor": "white",
            "linecolor": "white",
            "showgrid": true,
            "tickcolor": "rgb(51,51,51)",
            "ticks": "outside"
           },
           "bgcolor": "rgb(237,237,237)",
           "radialaxis": {
            "gridcolor": "white",
            "linecolor": "white",
            "showgrid": true,
            "tickcolor": "rgb(51,51,51)",
            "ticks": "outside"
           }
          },
          "scene": {
           "xaxis": {
            "backgroundcolor": "rgb(237,237,237)",
            "gridcolor": "white",
            "gridwidth": 2,
            "linecolor": "white",
            "showbackground": true,
            "showgrid": true,
            "tickcolor": "rgb(51,51,51)",
            "ticks": "outside",
            "zerolinecolor": "white"
           },
           "yaxis": {
            "backgroundcolor": "rgb(237,237,237)",
            "gridcolor": "white",
            "gridwidth": 2,
            "linecolor": "white",
            "showbackground": true,
            "showgrid": true,
            "tickcolor": "rgb(51,51,51)",
            "ticks": "outside",
            "zerolinecolor": "white"
           },
           "zaxis": {
            "backgroundcolor": "rgb(237,237,237)",
            "gridcolor": "white",
            "gridwidth": 2,
            "linecolor": "white",
            "showbackground": true,
            "showgrid": true,
            "tickcolor": "rgb(51,51,51)",
            "ticks": "outside",
            "zerolinecolor": "white"
           }
          },
          "shapedefaults": {
           "fillcolor": "black",
           "line": {
            "width": 0
           },
           "opacity": 0.3
          },
          "ternary": {
           "aaxis": {
            "gridcolor": "white",
            "linecolor": "white",
            "showgrid": true,
            "tickcolor": "rgb(51,51,51)",
            "ticks": "outside"
           },
           "baxis": {
            "gridcolor": "white",
            "linecolor": "white",
            "showgrid": true,
            "tickcolor": "rgb(51,51,51)",
            "ticks": "outside"
           },
           "bgcolor": "rgb(237,237,237)",
           "caxis": {
            "gridcolor": "white",
            "linecolor": "white",
            "showgrid": true,
            "tickcolor": "rgb(51,51,51)",
            "ticks": "outside"
           }
          },
          "xaxis": {
           "automargin": true,
           "gridcolor": "white",
           "linecolor": "white",
           "showgrid": true,
           "tickcolor": "rgb(51,51,51)",
           "ticks": "outside",
           "title": {
            "standoff": 15
           },
           "zerolinecolor": "white"
          },
          "yaxis": {
           "automargin": true,
           "gridcolor": "white",
           "linecolor": "white",
           "showgrid": true,
           "tickcolor": "rgb(51,51,51)",
           "ticks": "outside",
           "title": {
            "standoff": 15
           },
           "zerolinecolor": "white"
          }
         }
        },
        "title": {
         "text": "Компетенция 1"
        },
        "width": 1000
       }
      }
     },
     "metadata": {},
     "output_type": "display_data"
    }
   ],
   "source": [
    "fig.show()"
   ]
  }
 ],
 "metadata": {
  "kernelspec": {
   "display_name": "Python 3",
   "language": "python",
   "name": "python3"
  },
  "language_info": {
   "codemirror_mode": {
    "name": "ipython",
    "version": 3
   },
   "file_extension": ".py",
   "mimetype": "text/x-python",
   "name": "python",
   "nbconvert_exporter": "python",
   "pygments_lexer": "ipython3",
   "version": "3.12.4"
  }
 },
 "nbformat": 4,
 "nbformat_minor": 5
}
