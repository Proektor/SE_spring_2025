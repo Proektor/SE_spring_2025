{
 "cells": [
  {
   "cell_type": "code",
   "execution_count": 14,
   "id": "01f8635a",
   "metadata": {},
   "outputs": [
    {
     "ename": "ImportError",
     "evalue": "attempted relative import with no known parent package",
     "output_type": "error",
     "traceback": [
      "\u001b[1;31m---------------------------------------------------------------------------\u001b[0m",
      "\u001b[1;31mImportError\u001b[0m                               Traceback (most recent call last)",
      "Cell \u001b[1;32mIn[14], line 2\u001b[0m\n\u001b[0;32m      1\u001b[0m \u001b[38;5;28;01mimport\u001b[39;00m \u001b[38;5;21;01mrequests\u001b[39;00m\n\u001b[1;32m----> 2\u001b[0m \u001b[38;5;28;01mfrom\u001b[39;00m \u001b[38;5;21;01m.\u001b[39;00m \u001b[38;5;28;01mimport\u001b[39;00m config\n",
      "\u001b[1;31mImportError\u001b[0m: attempted relative import with no known parent package"
     ]
    }
   ],
   "source": [
    "import requests\n",
    "from . import config"
   ]
  },
  {
   "cell_type": "code",
   "execution_count": null,
   "id": "2276608b",
   "metadata": {},
   "outputs": [],
   "source": [
    "# Параметры бота\n",
    "token = \"7709538685:AAH3nikbdFya1SUGi16SkWoocf7aFLsnIj8\"\n",
    "chat_id = \"383441712\""
   ]
  },
  {
   "cell_type": "code",
   "execution_count": null,
   "id": "0da35e40",
   "metadata": {},
   "outputs": [],
   "source": [
    "# Отправить сообщение\n",
    "def send_message(token, chat_id, text):\n",
    "    url = f\"https://api.telegram.org/bot{token}/sendMessage\"\n",
    "    payload = {\n",
    "        'chat_id': chat_id,\n",
    "        'text': text\n",
    "    }\n",
    "    response = requests.post(url, data=payload)\n",
    "    return response.json()"
   ]
  },
  {
   "cell_type": "code",
   "execution_count": null,
   "id": "05673f1a",
   "metadata": {},
   "outputs": [],
   "source": [
    "# Получить информацию о боте\n",
    "\n",
    "def get_bot_info(token):\n",
    "    url = f\"https://api.telegram.org/bot{token}/getMe\"\n",
    "    response = requests.get(url)\n",
    "    return response.json()"
   ]
  },
  {
   "cell_type": "code",
   "execution_count": null,
   "id": "c7befc48",
   "metadata": {},
   "outputs": [],
   "source": [
    "# Пример отправки сообщения\n",
    "text = \"Hello, Telegram!\"\n",
    "print(send_message(token, chat_id, text))"
   ]
  },
  {
   "cell_type": "code",
   "execution_count": null,
   "id": "bfe150bd",
   "metadata": {},
   "outputs": [],
   "source": [
    "# Пример получения информации\n",
    "print(get_bot_info(token))"
   ]
  }
 ],
 "metadata": {
  "kernelspec": {
   "display_name": "Python 3",
   "language": "python",
   "name": "python3"
  },
  "language_info": {
   "codemirror_mode": {
    "name": "ipython",
    "version": 3
   },
   "file_extension": ".py",
   "mimetype": "text/x-python",
   "name": "python",
   "nbconvert_exporter": "python",
   "pygments_lexer": "ipython3",
   "version": "3.12.4"
  }
 },
 "nbformat": 4,
 "nbformat_minor": 5
}
