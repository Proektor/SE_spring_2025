{
 "cells": [
  {
   "cell_type": "markdown",
   "id": "30175fbc",
   "metadata": {},
   "source": [
    "## Работа с API Telegramm\n",
    "Предварительные условия:\n",
    "1. Создать бота в Телегамм (@BotFather)\n",
    "2. Получить API токен\n",
    "3. Узнать ID чата (chat_id)"
   ]
  },
  {
   "cell_type": "markdown",
   "id": "05b86110",
   "metadata": {},
   "source": [
    "### Подготовка"
   ]
  },
  {
   "cell_type": "code",
   "execution_count": null,
   "id": "01f8635a",
   "metadata": {},
   "outputs": [],
   "source": [
    "# Импортируем библиотеку для запросов\n",
    "import requests"
   ]
  },
  {
   "cell_type": "code",
   "execution_count": null,
   "id": "90e5f469",
   "metadata": {},
   "outputs": [],
   "source": [
    "# Импортируем/задаем константы (токен и ID чата)\n",
    "token = \"\"\n",
    "chat_id = \"\""
   ]
  },
  {
   "cell_type": "markdown",
   "id": "be86590c",
   "metadata": {},
   "source": [
    "### 1. Отправить сообщение"
   ]
  },
  {
   "cell_type": "code",
   "execution_count": null,
   "id": "0da35e40",
   "metadata": {},
   "outputs": [],
   "source": [
    "def send_message(token, chat_id, text):\n",
    "    url = f\"https://api.telegram.org/bot{token}/sendMessage\"\n",
    "    payload = {\n",
    "        'chat_id': chat_id,\n",
    "        'text': text\n",
    "    }\n",
    "    response = requests.post(url, data=payload)\n",
    "    return response.json()"
   ]
  },
  {
   "cell_type": "markdown",
   "id": "bff1e64c",
   "metadata": {},
   "source": [
    "Пример отправки сообщения"
   ]
  },
  {
   "cell_type": "code",
   "execution_count": null,
   "id": "c7befc48",
   "metadata": {},
   "outputs": [],
   "source": [
    "# Текст для отправки\n",
    "text = \"Hello, Telegram!\"\n",
    "\n",
    "print(send_message(token, chat_id, text))"
   ]
  },
  {
   "cell_type": "markdown",
   "id": "efbdb5ee",
   "metadata": {},
   "source": [
    "### 2. Получить информацию о боте"
   ]
  },
  {
   "cell_type": "code",
   "execution_count": null,
   "id": "05673f1a",
   "metadata": {},
   "outputs": [],
   "source": [
    "def get_bot_info(token):\n",
    "    url = f\"https://api.telegram.org/bot{token}/getMe\"\n",
    "    response = requests.get(url)\n",
    "    return response.json()"
   ]
  },
  {
   "cell_type": "markdown",
   "id": "f8f785a9",
   "metadata": {},
   "source": [
    "Пример получения информации о боте"
   ]
  },
  {
   "cell_type": "code",
   "execution_count": null,
   "id": "bfe150bd",
   "metadata": {},
   "outputs": [],
   "source": [
    "print(get_bot_info(token))"
   ]
  },
  {
   "cell_type": "markdown",
   "id": "977df56e",
   "metadata": {},
   "source": [
    "### 3. Получение последних сообщений (обновлений)"
   ]
  },
  {
   "cell_type": "code",
   "execution_count": null,
   "id": "8a05a9de",
   "metadata": {},
   "outputs": [],
   "source": [
    "def get_updates(token):\n",
    "    url = f\"https://api.telegram.org/bot{token}/getUpdates\"\n",
    "    response = requests.get(url)\n",
    "    return response.json()"
   ]
  },
  {
   "cell_type": "markdown",
   "id": "514b6033",
   "metadata": {},
   "source": [
    "Пример получения последних сообщений (обновлений)"
   ]
  },
  {
   "cell_type": "code",
   "execution_count": null,
   "id": "04715317",
   "metadata": {},
   "outputs": [],
   "source": [
    "print(get_updates(token))"
   ]
  },
  {
   "cell_type": "markdown",
   "id": "45958c4f",
   "metadata": {},
   "source": [
    "### 4. Отправка фотографии"
   ]
  },
  {
   "cell_type": "code",
   "execution_count": null,
   "id": "03978adb",
   "metadata": {},
   "outputs": [],
   "source": [
    "def send_photo(token, chat_id, photo_url, caption=\"\"):\n",
    "    url = f\"https://api.telegram.org/bot{token}/sendPhoto\"\n",
    "    payload = {\n",
    "        'chat_id': chat_id,\n",
    "        'photo': photo_url,\n",
    "        'caption': caption\n",
    "    }\n",
    "    response = requests.post(url, data=payload)\n",
    "    return response.json()"
   ]
  },
  {
   "cell_type": "markdown",
   "id": "eab28c29",
   "metadata": {},
   "source": [
    "Пример отправки фотографии"
   ]
  },
  {
   "cell_type": "code",
   "execution_count": null,
   "id": "722cd130",
   "metadata": {},
   "outputs": [],
   "source": [
    "# URL картинки\n",
    "base_url = \"https://unsplash.com/photos/\"\n",
    "img_name = \"brown-and-white-owl-in-close-up-photography-2VsPnDt2SQs\"\n",
    "photo_url = base_url + img_name\n",
    "\n",
    "# Подпись\n",
    "caption = \"Сова\"\n",
    "\n",
    "print(send_photo(token, chat_id, photo_url, caption))"
   ]
  },
  {
   "cell_type": "markdown",
   "id": "ec0f9472",
   "metadata": {},
   "source": [
    "### 5. Отправка кнопок (Inline Keyboard)"
   ]
  },
  {
   "cell_type": "code",
   "execution_count": null,
   "id": "1037ff7c",
   "metadata": {},
   "outputs": [],
   "source": [
    "def send_inline_keyboard(token, chat_id, text, buttons):\n",
    "    url = f\"https://api.telegram.org/bot{token}/sendMessage\"\n",
    "    keyboard = {\n",
    "        'inline_keyboard': [[{'text': btn_text, 'callback_data': btn_data}\n",
    "                             for btn_text, btn_data in buttons]]\n",
    "    }\n",
    "    payload = {\n",
    "        'chat_id': chat_id,\n",
    "        'text': text,\n",
    "        'reply_markup': json.dumps(keyboard)\n",
    "    }\n",
    "    response = requests.post(url, data=payload)\n",
    "    return response.json()"
   ]
  },
  {
   "cell_type": "markdown",
   "id": "483344cf",
   "metadata": {},
   "source": [
    "Пример отправки кнопок (Inline Keyboard)"
   ]
  },
  {
   "cell_type": "code",
   "execution_count": null,
   "id": "3d76044c",
   "metadata": {},
   "outputs": [],
   "source": [
    "# массив кнопок\n",
    "buttons = [(\"Опция 1\", \"option1\"),\n",
    "           (\"Опция 2\", \"option2\"),\n",
    "           (\"Опция 3\", \"option3\")]\n",
    "\n",
    "# заголовок\n",
    "text = \"Выбери опцию:\"\n",
    "\n",
    "print(send_inline_keyboard(token, chat_id, text, buttons))"
   ]
  },
  {
   "cell_type": "markdown",
   "id": "fa9cfb1b",
   "metadata": {},
   "source": [
    "### 6. Получение информации о чате"
   ]
  },
  {
   "cell_type": "code",
   "execution_count": null,
   "id": "493e0da0",
   "metadata": {},
   "outputs": [],
   "source": [
    "def get_chat_info(token, chat_id):\n",
    "    url = f\"https://api.telegram.org/bot{token}/getChat\"\n",
    "    params = {\n",
    "        'chat_id': chat_id\n",
    "    }\n",
    "    response = requests.get(url, params=params)\n",
    "    return response.json()"
   ]
  },
  {
   "cell_type": "markdown",
   "id": "fcb23079",
   "metadata": {},
   "source": [
    "Пример получения информации о чате"
   ]
  },
  {
   "cell_type": "code",
   "execution_count": null,
   "id": "40e59c12",
   "metadata": {},
   "outputs": [],
   "source": [
    "print(get_chat_info(token, chat_id))"
   ]
  },
  {
   "cell_type": "markdown",
   "id": "12e5c49e",
   "metadata": {},
   "source": [
    "### 7. Удаление сообщения"
   ]
  },
  {
   "cell_type": "code",
   "execution_count": null,
   "id": "0a8032d1",
   "metadata": {},
   "outputs": [],
   "source": [
    "def delete_message(token, chat_id, message_id):\n",
    "    url = f\"https://api.telegram.org/bot{token}/deleteMessage\"\n",
    "    payload = {\n",
    "        'chat_id': chat_id,\n",
    "        'message_id': message_id\n",
    "    }\n",
    "    response = requests.post(url, data=payload)\n",
    "    return response.json()"
   ]
  },
  {
   "cell_type": "markdown",
   "id": "44d152f8",
   "metadata": {},
   "source": [
    "Пример удаления сообщения"
   ]
  },
  {
   "cell_type": "code",
   "execution_count": null,
   "id": "dc249f36",
   "metadata": {},
   "outputs": [],
   "source": [
    "message_id = \"12\"\n",
    "print(delete_message(token, chat_id, message_id))"
   ]
  },
  {
   "cell_type": "markdown",
   "id": "aa8201e4",
   "metadata": {},
   "source": [
    "### 8. Отправка опроса (Poll)"
   ]
  },
  {
   "cell_type": "code",
   "execution_count": null,
   "id": "550c24fc",
   "metadata": {},
   "outputs": [],
   "source": [
    "def send_poll(token, chat_id, question, options):\n",
    "    url = f\"https://api.telegram.org/bot{token}/sendPoll\"\n",
    "    payload = {\n",
    "        'chat_id': chat_id,\n",
    "        'question': question,\n",
    "        'options': json.dumps(options),\n",
    "        'is_anonymous': True\n",
    "    }\n",
    "    response = requests.post(url, data=payload)\n",
    "    return response.json()"
   ]
  },
  {
   "cell_type": "markdown",
   "id": "7927e9f7",
   "metadata": {},
   "source": [
    "Пример отправки опроса"
   ]
  },
  {
   "cell_type": "code",
   "execution_count": null,
   "id": "3dd98a56",
   "metadata": {},
   "outputs": [],
   "source": [
    "question = \"Любимый день недели\"\n",
    "options = [\"Понедельник\",\n",
    "           \"Вторник\",\n",
    "           \"Среда\",\n",
    "           \"Четверг\",\n",
    "           \"Пятница\",\n",
    "           \"Суббота\",\n",
    "           \"Воскресенье\"]\n",
    "\n",
    "print(send_poll(token, chat_id, question, options))"
   ]
  }
 ],
 "metadata": {
  "kernelspec": {
   "display_name": "Python 3",
   "language": "python",
   "name": "python3"
  },
  "language_info": {
   "codemirror_mode": {
    "name": "ipython",
    "version": 3
   },
   "file_extension": ".py",
   "mimetype": "text/x-python",
   "name": "python",
   "nbconvert_exporter": "python",
   "pygments_lexer": "ipython3",
   "version": "3.12.4"
  }
 },
 "nbformat": 4,
 "nbformat_minor": 5
}
